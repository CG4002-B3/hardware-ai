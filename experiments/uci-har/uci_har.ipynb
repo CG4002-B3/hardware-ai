{
 "cells": [
  {
   "cell_type": "code",
   "execution_count": 1,
   "id": "4b9a9ca5",
   "metadata": {},
   "outputs": [],
   "source": [
    "import pandas as pd\n",
    "import matplotlib.pyplot as plt\n",
    "import numpy as np\n",
    "from sklearn import preprocessing"
   ]
  },
  {
   "cell_type": "code",
   "execution_count": 2,
   "id": "6d40564b",
   "metadata": {},
   "outputs": [],
   "source": [
    "TEST_DATA = 'test.csv'\n",
    "TRAIN_DATA = 'train.csv'"
   ]
  },
  {
   "cell_type": "code",
   "execution_count": 3,
   "id": "bf061d11",
   "metadata": {},
   "outputs": [
    {
     "data": {
      "text/plain": [
       "(7352, 563)"
      ]
     },
     "execution_count": 3,
     "metadata": {},
     "output_type": "execute_result"
    }
   ],
   "source": [
    "train_df = pd.read_csv(TRAIN_DATA)\n",
    "test_df = pd.read_csv(TEST_DATA)\n",
    "train_df.shape"
   ]
  },
  {
   "cell_type": "code",
   "execution_count": 4,
   "id": "0eba1128",
   "metadata": {},
   "outputs": [
    {
     "name": "stdout",
     "output_type": "stream",
     "text": [
      "tBodyAcc-mean()-X\n",
      " tBodyAcc-mean()-Y\n",
      " tBodyAcc-mean()-Z\n",
      " tBodyAcc-std()-X\n",
      " tBodyAcc-std()-Y\n",
      " tBodyAcc-std()-Z\n",
      " tBodyAcc-mad()-X\n",
      " tBodyAcc-mad()-Y\n",
      " tBodyAcc-mad()-Z\n",
      " tBodyAcc-max()-X\n",
      " tBodyAcc-max()-Y\n",
      " tBodyAcc-max()-Z\n",
      " tBodyAcc-min()-X\n",
      " tBodyAcc-min()-Y\n",
      " tBodyAcc-min()-Z\n",
      " tBodyAcc-sma()\n",
      " tBodyAcc-energy()-X\n",
      " tBodyAcc-energy()-Y\n",
      " tBodyAcc-energy()-Z\n",
      " tBodyAcc-iqr()-X\n",
      " tBodyAcc-iqr()-Y\n",
      " tBodyAcc-iqr()-Z\n",
      " tBodyAcc-entropy()-X\n",
      " tBodyAcc-entropy()-Y\n",
      " tBodyAcc-entropy()-Z\n",
      " tBodyAcc-arCoeff()-X,1\n",
      " tBodyAcc-arCoeff()-X,2\n",
      " tBodyAcc-arCoeff()-X,3\n",
      " tBodyAcc-arCoeff()-X,4\n",
      " tBodyAcc-arCoeff()-Y,1\n",
      " tBodyAcc-arCoeff()-Y,2\n",
      " tBodyAcc-arCoeff()-Y,3\n",
      " tBodyAcc-arCoeff()-Y,4\n",
      " tBodyAcc-arCoeff()-Z,1\n",
      " tBodyAcc-arCoeff()-Z,2\n",
      " tBodyAcc-arCoeff()-Z,3\n",
      " tBodyAcc-arCoeff()-Z,4\n",
      " tBodyAcc-correlation()-X,Y\n",
      " tBodyAcc-correlation()-X,Z\n",
      " tBodyAcc-correlation()-Y,Z\n",
      " tGravityAcc-mean()-X\n",
      " tGravityAcc-mean()-Y\n",
      " tGravityAcc-mean()-Z\n",
      " tGravityAcc-std()-X\n",
      " tGravityAcc-std()-Y\n",
      " tGravityAcc-std()-Z\n",
      " tGravityAcc-mad()-X\n",
      " tGravityAcc-mad()-Y\n",
      " tGravityAcc-mad()-Z\n",
      " tGravityAcc-max()-X\n",
      " tGravityAcc-max()-Y\n",
      " tGravityAcc-max()-Z\n",
      " tGravityAcc-min()-X\n",
      " tGravityAcc-min()-Y\n",
      " tGravityAcc-min()-Z\n",
      " tGravityAcc-sma()\n",
      " tGravityAcc-energy()-X\n",
      " tGravityAcc-energy()-Y\n",
      " tGravityAcc-energy()-Z\n",
      " tGravityAcc-iqr()-X\n",
      " tGravityAcc-iqr()-Y\n",
      " tGravityAcc-iqr()-Z\n",
      " tGravityAcc-entropy()-X\n",
      " tGravityAcc-entropy()-Y\n",
      " tGravityAcc-entropy()-Z\n",
      " tGravityAcc-arCoeff()-X,1\n",
      " tGravityAcc-arCoeff()-X,2\n",
      " tGravityAcc-arCoeff()-X,3\n",
      " tGravityAcc-arCoeff()-X,4\n",
      " tGravityAcc-arCoeff()-Y,1\n",
      " tGravityAcc-arCoeff()-Y,2\n",
      " tGravityAcc-arCoeff()-Y,3\n",
      " tGravityAcc-arCoeff()-Y,4\n",
      " tGravityAcc-arCoeff()-Z,1\n",
      " tGravityAcc-arCoeff()-Z,2\n",
      " tGravityAcc-arCoeff()-Z,3\n",
      " tGravityAcc-arCoeff()-Z,4\n",
      " tGravityAcc-correlation()-X,Y\n",
      " tGravityAcc-correlation()-X,Z\n",
      " tGravityAcc-correlation()-Y,Z\n",
      " tBodyAccJerk-mean()-X\n",
      " tBodyAccJerk-mean()-Y\n",
      " tBodyAccJerk-mean()-Z\n",
      " tBodyAccJerk-std()-X\n",
      " tBodyAccJerk-std()-Y\n",
      " tBodyAccJerk-std()-Z\n",
      " tBodyAccJerk-mad()-X\n",
      " tBodyAccJerk-mad()-Y\n",
      " tBodyAccJerk-mad()-Z\n",
      " tBodyAccJerk-max()-X\n",
      " tBodyAccJerk-max()-Y\n",
      " tBodyAccJerk-max()-Z\n",
      " tBodyAccJerk-min()-X\n",
      " tBodyAccJerk-min()-Y\n",
      " tBodyAccJerk-min()-Z\n",
      " tBodyAccJerk-sma()\n",
      " tBodyAccJerk-energy()-X\n",
      " tBodyAccJerk-energy()-Y\n",
      " tBodyAccJerk-energy()-Z\n",
      " tBodyAccJerk-iqr()-X\n",
      " tBodyAccJerk-iqr()-Y\n",
      " tBodyAccJerk-iqr()-Z\n",
      " tBodyAccJerk-entropy()-X\n",
      " tBodyAccJerk-entropy()-Y\n",
      " tBodyAccJerk-entropy()-Z\n",
      " tBodyAccJerk-arCoeff()-X,1\n",
      " tBodyAccJerk-arCoeff()-X,2\n",
      " tBodyAccJerk-arCoeff()-X,3\n",
      " tBodyAccJerk-arCoeff()-X,4\n",
      " tBodyAccJerk-arCoeff()-Y,1\n",
      " tBodyAccJerk-arCoeff()-Y,2\n",
      " tBodyAccJerk-arCoeff()-Y,3\n",
      " tBodyAccJerk-arCoeff()-Y,4\n",
      " tBodyAccJerk-arCoeff()-Z,1\n",
      " tBodyAccJerk-arCoeff()-Z,2\n",
      " tBodyAccJerk-arCoeff()-Z,3\n",
      " tBodyAccJerk-arCoeff()-Z,4\n",
      " tBodyAccJerk-correlation()-X,Y\n",
      " tBodyAccJerk-correlation()-X,Z\n",
      " tBodyAccJerk-correlation()-Y,Z\n",
      " tBodyGyro-mean()-X\n",
      " tBodyGyro-mean()-Y\n",
      " tBodyGyro-mean()-Z\n",
      " tBodyGyro-std()-X\n",
      " tBodyGyro-std()-Y\n",
      " tBodyGyro-std()-Z\n",
      " tBodyGyro-mad()-X\n",
      " tBodyGyro-mad()-Y\n",
      " tBodyGyro-mad()-Z\n",
      " tBodyGyro-max()-X\n",
      " tBodyGyro-max()-Y\n",
      " tBodyGyro-max()-Z\n",
      " tBodyGyro-min()-X\n",
      " tBodyGyro-min()-Y\n",
      " tBodyGyro-min()-Z\n",
      " tBodyGyro-sma()\n",
      " tBodyGyro-energy()-X\n",
      " tBodyGyro-energy()-Y\n",
      " tBodyGyro-energy()-Z\n",
      " tBodyGyro-iqr()-X\n",
      " tBodyGyro-iqr()-Y\n",
      " tBodyGyro-iqr()-Z\n",
      " tBodyGyro-entropy()-X\n",
      " tBodyGyro-entropy()-Y\n",
      " tBodyGyro-entropy()-Z\n",
      " tBodyGyro-arCoeff()-X,1\n",
      " tBodyGyro-arCoeff()-X,2\n",
      " tBodyGyro-arCoeff()-X,3\n",
      " tBodyGyro-arCoeff()-X,4\n",
      " tBodyGyro-arCoeff()-Y,1\n",
      " tBodyGyro-arCoeff()-Y,2\n",
      " tBodyGyro-arCoeff()-Y,3\n",
      " tBodyGyro-arCoeff()-Y,4\n",
      " tBodyGyro-arCoeff()-Z,1\n",
      " tBodyGyro-arCoeff()-Z,2\n",
      " tBodyGyro-arCoeff()-Z,3\n",
      " tBodyGyro-arCoeff()-Z,4\n",
      " tBodyGyro-correlation()-X,Y\n",
      " tBodyGyro-correlation()-X,Z\n",
      " tBodyGyro-correlation()-Y,Z\n",
      " tBodyGyroJerk-mean()-X\n",
      " tBodyGyroJerk-mean()-Y\n",
      " tBodyGyroJerk-mean()-Z\n",
      " tBodyGyroJerk-std()-X\n",
      " tBodyGyroJerk-std()-Y\n",
      " tBodyGyroJerk-std()-Z\n",
      " tBodyGyroJerk-mad()-X\n",
      " tBodyGyroJerk-mad()-Y\n",
      " tBodyGyroJerk-mad()-Z\n",
      " tBodyGyroJerk-max()-X\n",
      " tBodyGyroJerk-max()-Y\n",
      " tBodyGyroJerk-max()-Z\n",
      " tBodyGyroJerk-min()-X\n",
      " tBodyGyroJerk-min()-Y\n",
      " tBodyGyroJerk-min()-Z\n",
      " tBodyGyroJerk-sma()\n",
      " tBodyGyroJerk-energy()-X\n",
      " tBodyGyroJerk-energy()-Y\n",
      " tBodyGyroJerk-energy()-Z\n",
      " tBodyGyroJerk-iqr()-X\n",
      " tBodyGyroJerk-iqr()-Y\n",
      " tBodyGyroJerk-iqr()-Z\n",
      " tBodyGyroJerk-entropy()-X\n",
      " tBodyGyroJerk-entropy()-Y\n",
      " tBodyGyroJerk-entropy()-Z\n",
      " tBodyGyroJerk-arCoeff()-X,1\n",
      " tBodyGyroJerk-arCoeff()-X,2\n",
      " tBodyGyroJerk-arCoeff()-X,3\n",
      " tBodyGyroJerk-arCoeff()-X,4\n",
      " tBodyGyroJerk-arCoeff()-Y,1\n",
      " tBodyGyroJerk-arCoeff()-Y,2\n",
      " tBodyGyroJerk-arCoeff()-Y,3\n",
      " tBodyGyroJerk-arCoeff()-Y,4\n",
      " tBodyGyroJerk-arCoeff()-Z,1\n",
      " tBodyGyroJerk-arCoeff()-Z,2\n",
      " tBodyGyroJerk-arCoeff()-Z,3\n",
      " tBodyGyroJerk-arCoeff()-Z,4\n",
      " tBodyGyroJerk-correlation()-X,Y\n",
      " tBodyGyroJerk-correlation()-X,Z\n",
      " tBodyGyroJerk-correlation()-Y,Z\n",
      " tBodyAccMag-mean()\n",
      " tBodyAccMag-std()\n",
      " tBodyAccMag-mad()\n",
      " tBodyAccMag-max()\n",
      " tBodyAccMag-min()\n",
      " tBodyAccMag-sma()\n",
      " tBodyAccMag-energy()\n",
      " tBodyAccMag-iqr()\n",
      " tBodyAccMag-entropy()\n",
      " tBodyAccMag-arCoeff()1\n",
      " tBodyAccMag-arCoeff()2\n",
      " tBodyAccMag-arCoeff()3\n",
      " tBodyAccMag-arCoeff()4\n",
      " tGravityAccMag-mean()\n",
      " tGravityAccMag-std()\n",
      " tGravityAccMag-mad()\n",
      " tGravityAccMag-max()\n",
      " tGravityAccMag-min()\n",
      " tGravityAccMag-sma()\n",
      " tGravityAccMag-energy()\n",
      " tGravityAccMag-iqr()\n",
      " tGravityAccMag-entropy()\n",
      " tGravityAccMag-arCoeff()1\n",
      " tGravityAccMag-arCoeff()2\n",
      " tGravityAccMag-arCoeff()3\n",
      " tGravityAccMag-arCoeff()4\n",
      " tBodyAccJerkMag-mean()\n",
      " tBodyAccJerkMag-std()\n",
      " tBodyAccJerkMag-mad()\n",
      " tBodyAccJerkMag-max()\n",
      " tBodyAccJerkMag-min()\n",
      " tBodyAccJerkMag-sma()\n",
      " tBodyAccJerkMag-energy()\n",
      " tBodyAccJerkMag-iqr()\n",
      " tBodyAccJerkMag-entropy()\n",
      " tBodyAccJerkMag-arCoeff()1\n",
      " tBodyAccJerkMag-arCoeff()2\n",
      " tBodyAccJerkMag-arCoeff()3\n",
      " tBodyAccJerkMag-arCoeff()4\n",
      " tBodyGyroMag-mean()\n",
      " tBodyGyroMag-std()\n",
      " tBodyGyroMag-mad()\n",
      " tBodyGyroMag-max()\n",
      " tBodyGyroMag-min()\n",
      " tBodyGyroMag-sma()\n",
      " tBodyGyroMag-energy()\n",
      " tBodyGyroMag-iqr()\n",
      " tBodyGyroMag-entropy()\n",
      " tBodyGyroMag-arCoeff()1\n",
      " tBodyGyroMag-arCoeff()2\n",
      " tBodyGyroMag-arCoeff()3\n",
      " tBodyGyroMag-arCoeff()4\n",
      " tBodyGyroJerkMag-mean()\n",
      " tBodyGyroJerkMag-std()\n",
      " tBodyGyroJerkMag-mad()\n",
      " tBodyGyroJerkMag-max()\n",
      " tBodyGyroJerkMag-min()\n",
      " tBodyGyroJerkMag-sma()\n",
      " tBodyGyroJerkMag-energy()\n",
      " tBodyGyroJerkMag-iqr()\n",
      " tBodyGyroJerkMag-entropy()\n",
      " tBodyGyroJerkMag-arCoeff()1\n",
      " tBodyGyroJerkMag-arCoeff()2\n",
      " tBodyGyroJerkMag-arCoeff()3\n",
      " tBodyGyroJerkMag-arCoeff()4\n",
      " fBodyAcc-mean()-X\n",
      " fBodyAcc-mean()-Y\n",
      " fBodyAcc-mean()-Z\n",
      " fBodyAcc-std()-X\n",
      " fBodyAcc-std()-Y\n",
      " fBodyAcc-std()-Z\n",
      " fBodyAcc-mad()-X\n",
      " fBodyAcc-mad()-Y\n",
      " fBodyAcc-mad()-Z\n",
      " fBodyAcc-max()-X\n",
      " fBodyAcc-max()-Y\n",
      " fBodyAcc-max()-Z\n",
      " fBodyAcc-min()-X\n",
      " fBodyAcc-min()-Y\n",
      " fBodyAcc-min()-Z\n",
      " fBodyAcc-sma()\n",
      " fBodyAcc-energy()-X\n",
      " fBodyAcc-energy()-Y\n",
      " fBodyAcc-energy()-Z\n",
      " fBodyAcc-iqr()-X\n",
      " fBodyAcc-iqr()-Y\n",
      " fBodyAcc-iqr()-Z\n",
      " fBodyAcc-entropy()-X\n",
      " fBodyAcc-entropy()-Y\n",
      " fBodyAcc-entropy()-Z\n",
      " fBodyAcc-maxInds-X\n",
      " fBodyAcc-maxInds-Y\n",
      " fBodyAcc-maxInds-Z\n",
      " fBodyAcc-meanFreq()-X\n",
      " fBodyAcc-meanFreq()-Y\n",
      " fBodyAcc-meanFreq()-Z\n",
      " fBodyAcc-skewness()-X\n",
      " fBodyAcc-kurtosis()-X\n",
      " fBodyAcc-skewness()-Y\n",
      " fBodyAcc-kurtosis()-Y\n",
      " fBodyAcc-skewness()-Z\n",
      " fBodyAcc-kurtosis()-Z\n",
      " fBodyAcc-bandsEnergy()-1,8\n",
      " fBodyAcc-bandsEnergy()-9,16\n",
      " fBodyAcc-bandsEnergy()-17,24\n",
      " fBodyAcc-bandsEnergy()-25,32\n",
      " fBodyAcc-bandsEnergy()-33,40\n",
      " fBodyAcc-bandsEnergy()-41,48\n",
      " fBodyAcc-bandsEnergy()-49,56\n",
      " fBodyAcc-bandsEnergy()-57,64\n",
      " fBodyAcc-bandsEnergy()-1,16\n",
      " fBodyAcc-bandsEnergy()-17,32\n",
      " fBodyAcc-bandsEnergy()-33,48\n",
      " fBodyAcc-bandsEnergy()-49,64\n",
      " fBodyAcc-bandsEnergy()-1,24\n",
      " fBodyAcc-bandsEnergy()-25,48\n",
      " fBodyAcc-bandsEnergy()-1,8.1\n",
      " fBodyAcc-bandsEnergy()-9,16.1\n",
      " fBodyAcc-bandsEnergy()-17,24.1\n",
      " fBodyAcc-bandsEnergy()-25,32.1\n",
      " fBodyAcc-bandsEnergy()-33,40.1\n",
      " fBodyAcc-bandsEnergy()-41,48.1\n",
      " fBodyAcc-bandsEnergy()-49,56.1\n",
      " fBodyAcc-bandsEnergy()-57,64.1\n",
      " fBodyAcc-bandsEnergy()-1,16.1\n",
      " fBodyAcc-bandsEnergy()-17,32.1\n",
      " fBodyAcc-bandsEnergy()-33,48.1\n",
      " fBodyAcc-bandsEnergy()-49,64.1\n",
      " fBodyAcc-bandsEnergy()-1,24.1\n",
      " fBodyAcc-bandsEnergy()-25,48.1\n",
      " fBodyAcc-bandsEnergy()-1,8.2\n",
      " fBodyAcc-bandsEnergy()-9,16.2\n",
      " fBodyAcc-bandsEnergy()-17,24.2\n",
      " fBodyAcc-bandsEnergy()-25,32.2\n",
      " fBodyAcc-bandsEnergy()-33,40.2\n",
      " fBodyAcc-bandsEnergy()-41,48.2\n",
      " fBodyAcc-bandsEnergy()-49,56.2\n",
      " fBodyAcc-bandsEnergy()-57,64.2\n",
      " fBodyAcc-bandsEnergy()-1,16.2\n",
      " fBodyAcc-bandsEnergy()-17,32.2\n",
      " fBodyAcc-bandsEnergy()-33,48.2\n",
      " fBodyAcc-bandsEnergy()-49,64.2\n",
      " fBodyAcc-bandsEnergy()-1,24.2\n",
      " fBodyAcc-bandsEnergy()-25,48.2\n",
      " fBodyAccJerk-mean()-X\n",
      " fBodyAccJerk-mean()-Y\n",
      " fBodyAccJerk-mean()-Z\n",
      " fBodyAccJerk-std()-X\n",
      " fBodyAccJerk-std()-Y\n",
      " fBodyAccJerk-std()-Z\n",
      " fBodyAccJerk-mad()-X\n",
      " fBodyAccJerk-mad()-Y\n",
      " fBodyAccJerk-mad()-Z\n",
      " fBodyAccJerk-max()-X\n",
      " fBodyAccJerk-max()-Y\n",
      " fBodyAccJerk-max()-Z\n",
      " fBodyAccJerk-min()-X\n",
      " fBodyAccJerk-min()-Y\n",
      " fBodyAccJerk-min()-Z\n",
      " fBodyAccJerk-sma()\n",
      " fBodyAccJerk-energy()-X\n",
      " fBodyAccJerk-energy()-Y\n",
      " fBodyAccJerk-energy()-Z\n",
      " fBodyAccJerk-iqr()-X\n",
      " fBodyAccJerk-iqr()-Y\n",
      " fBodyAccJerk-iqr()-Z\n",
      " fBodyAccJerk-entropy()-X\n",
      " fBodyAccJerk-entropy()-Y\n",
      " fBodyAccJerk-entropy()-Z\n",
      " fBodyAccJerk-maxInds-X\n",
      " fBodyAccJerk-maxInds-Y\n",
      " fBodyAccJerk-maxInds-Z\n",
      " fBodyAccJerk-meanFreq()-X\n",
      " fBodyAccJerk-meanFreq()-Y\n",
      " fBodyAccJerk-meanFreq()-Z\n",
      " fBodyAccJerk-skewness()-X\n",
      " fBodyAccJerk-kurtosis()-X\n",
      " fBodyAccJerk-skewness()-Y\n",
      " fBodyAccJerk-kurtosis()-Y\n",
      " fBodyAccJerk-skewness()-Z\n",
      " fBodyAccJerk-kurtosis()-Z\n",
      " fBodyAccJerk-bandsEnergy()-1,8\n",
      " fBodyAccJerk-bandsEnergy()-9,16\n",
      " fBodyAccJerk-bandsEnergy()-17,24\n",
      " fBodyAccJerk-bandsEnergy()-25,32\n",
      " fBodyAccJerk-bandsEnergy()-33,40\n",
      " fBodyAccJerk-bandsEnergy()-41,48\n",
      " fBodyAccJerk-bandsEnergy()-49,56\n",
      " fBodyAccJerk-bandsEnergy()-57,64\n",
      " fBodyAccJerk-bandsEnergy()-1,16\n",
      " fBodyAccJerk-bandsEnergy()-17,32\n",
      " fBodyAccJerk-bandsEnergy()-33,48\n",
      " fBodyAccJerk-bandsEnergy()-49,64\n",
      " fBodyAccJerk-bandsEnergy()-1,24\n",
      " fBodyAccJerk-bandsEnergy()-25,48\n",
      " fBodyAccJerk-bandsEnergy()-1,8.1\n",
      " fBodyAccJerk-bandsEnergy()-9,16.1\n",
      " fBodyAccJerk-bandsEnergy()-17,24.1\n",
      " fBodyAccJerk-bandsEnergy()-25,32.1\n",
      " fBodyAccJerk-bandsEnergy()-33,40.1\n",
      " fBodyAccJerk-bandsEnergy()-41,48.1\n",
      " fBodyAccJerk-bandsEnergy()-49,56.1\n",
      " fBodyAccJerk-bandsEnergy()-57,64.1\n",
      " fBodyAccJerk-bandsEnergy()-1,16.1\n",
      " fBodyAccJerk-bandsEnergy()-17,32.1\n",
      " fBodyAccJerk-bandsEnergy()-33,48.1\n",
      " fBodyAccJerk-bandsEnergy()-49,64.1\n",
      " fBodyAccJerk-bandsEnergy()-1,24.1\n",
      " fBodyAccJerk-bandsEnergy()-25,48.1\n",
      " fBodyAccJerk-bandsEnergy()-1,8.2\n",
      " fBodyAccJerk-bandsEnergy()-9,16.2\n",
      " fBodyAccJerk-bandsEnergy()-17,24.2\n",
      " fBodyAccJerk-bandsEnergy()-25,32.2\n",
      " fBodyAccJerk-bandsEnergy()-33,40.2\n",
      " fBodyAccJerk-bandsEnergy()-41,48.2\n",
      " fBodyAccJerk-bandsEnergy()-49,56.2\n",
      " fBodyAccJerk-bandsEnergy()-57,64.2\n",
      " fBodyAccJerk-bandsEnergy()-1,16.2\n",
      " fBodyAccJerk-bandsEnergy()-17,32.2\n",
      " fBodyAccJerk-bandsEnergy()-33,48.2\n",
      " fBodyAccJerk-bandsEnergy()-49,64.2\n",
      " fBodyAccJerk-bandsEnergy()-1,24.2\n",
      " fBodyAccJerk-bandsEnergy()-25,48.2\n",
      " fBodyGyro-mean()-X\n",
      " fBodyGyro-mean()-Y\n",
      " fBodyGyro-mean()-Z\n",
      " fBodyGyro-std()-X\n",
      " fBodyGyro-std()-Y\n",
      " fBodyGyro-std()-Z\n",
      " fBodyGyro-mad()-X\n",
      " fBodyGyro-mad()-Y\n",
      " fBodyGyro-mad()-Z\n",
      " fBodyGyro-max()-X\n",
      " fBodyGyro-max()-Y\n",
      " fBodyGyro-max()-Z\n",
      " fBodyGyro-min()-X\n",
      " fBodyGyro-min()-Y\n",
      " fBodyGyro-min()-Z\n",
      " fBodyGyro-sma()\n",
      " fBodyGyro-energy()-X\n",
      " fBodyGyro-energy()-Y\n",
      " fBodyGyro-energy()-Z\n",
      " fBodyGyro-iqr()-X\n",
      " fBodyGyro-iqr()-Y\n",
      " fBodyGyro-iqr()-Z\n",
      " fBodyGyro-entropy()-X\n",
      " fBodyGyro-entropy()-Y\n",
      " fBodyGyro-entropy()-Z\n",
      " fBodyGyro-maxInds-X\n",
      " fBodyGyro-maxInds-Y\n",
      " fBodyGyro-maxInds-Z\n",
      " fBodyGyro-meanFreq()-X\n",
      " fBodyGyro-meanFreq()-Y\n",
      " fBodyGyro-meanFreq()-Z\n",
      " fBodyGyro-skewness()-X\n",
      " fBodyGyro-kurtosis()-X\n",
      " fBodyGyro-skewness()-Y\n",
      " fBodyGyro-kurtosis()-Y\n",
      " fBodyGyro-skewness()-Z\n",
      " fBodyGyro-kurtosis()-Z\n",
      " fBodyGyro-bandsEnergy()-1,8\n",
      " fBodyGyro-bandsEnergy()-9,16\n",
      " fBodyGyro-bandsEnergy()-17,24\n",
      " fBodyGyro-bandsEnergy()-25,32\n",
      " fBodyGyro-bandsEnergy()-33,40\n",
      " fBodyGyro-bandsEnergy()-41,48\n",
      " fBodyGyro-bandsEnergy()-49,56\n",
      " fBodyGyro-bandsEnergy()-57,64\n",
      " fBodyGyro-bandsEnergy()-1,16\n",
      " fBodyGyro-bandsEnergy()-17,32\n",
      " fBodyGyro-bandsEnergy()-33,48\n",
      " fBodyGyro-bandsEnergy()-49,64\n",
      " fBodyGyro-bandsEnergy()-1,24\n",
      " fBodyGyro-bandsEnergy()-25,48\n",
      " fBodyGyro-bandsEnergy()-1,8.1\n",
      " fBodyGyro-bandsEnergy()-9,16.1\n",
      " fBodyGyro-bandsEnergy()-17,24.1\n",
      " fBodyGyro-bandsEnergy()-25,32.1\n",
      " fBodyGyro-bandsEnergy()-33,40.1\n",
      " fBodyGyro-bandsEnergy()-41,48.1\n",
      " fBodyGyro-bandsEnergy()-49,56.1\n",
      " fBodyGyro-bandsEnergy()-57,64.1\n",
      " fBodyGyro-bandsEnergy()-1,16.1\n",
      " fBodyGyro-bandsEnergy()-17,32.1\n",
      " fBodyGyro-bandsEnergy()-33,48.1\n",
      " fBodyGyro-bandsEnergy()-49,64.1\n",
      " fBodyGyro-bandsEnergy()-1,24.1\n",
      " fBodyGyro-bandsEnergy()-25,48.1\n",
      " fBodyGyro-bandsEnergy()-1,8.2\n",
      " fBodyGyro-bandsEnergy()-9,16.2\n",
      " fBodyGyro-bandsEnergy()-17,24.2\n",
      " fBodyGyro-bandsEnergy()-25,32.2\n",
      " fBodyGyro-bandsEnergy()-33,40.2\n",
      " fBodyGyro-bandsEnergy()-41,48.2\n",
      " fBodyGyro-bandsEnergy()-49,56.2\n",
      " fBodyGyro-bandsEnergy()-57,64.2\n",
      " fBodyGyro-bandsEnergy()-1,16.2\n",
      " fBodyGyro-bandsEnergy()-17,32.2\n",
      " fBodyGyro-bandsEnergy()-33,48.2\n",
      " fBodyGyro-bandsEnergy()-49,64.2\n",
      " fBodyGyro-bandsEnergy()-1,24.2\n",
      " fBodyGyro-bandsEnergy()-25,48.2\n",
      " fBodyAccMag-mean()\n",
      " fBodyAccMag-std()\n",
      " fBodyAccMag-mad()\n",
      " fBodyAccMag-max()\n",
      " fBodyAccMag-min()\n",
      " fBodyAccMag-sma()\n",
      " fBodyAccMag-energy()\n",
      " fBodyAccMag-iqr()\n",
      " fBodyAccMag-entropy()\n",
      " fBodyAccMag-maxInds\n",
      " fBodyAccMag-meanFreq()\n",
      " fBodyAccMag-skewness()\n",
      " fBodyAccMag-kurtosis()\n",
      " fBodyBodyAccJerkMag-mean()\n",
      " fBodyBodyAccJerkMag-std()\n",
      " fBodyBodyAccJerkMag-mad()\n",
      " fBodyBodyAccJerkMag-max()\n",
      " fBodyBodyAccJerkMag-min()\n",
      " fBodyBodyAccJerkMag-sma()\n",
      " fBodyBodyAccJerkMag-energy()\n",
      " fBodyBodyAccJerkMag-iqr()\n",
      " fBodyBodyAccJerkMag-entropy()\n",
      " fBodyBodyAccJerkMag-maxInds\n",
      " fBodyBodyAccJerkMag-meanFreq()\n",
      " fBodyBodyAccJerkMag-skewness()\n",
      " fBodyBodyAccJerkMag-kurtosis()\n",
      " fBodyBodyGyroMag-mean()\n",
      " fBodyBodyGyroMag-std()\n",
      " fBodyBodyGyroMag-mad()\n",
      " fBodyBodyGyroMag-max()\n",
      " fBodyBodyGyroMag-min()\n",
      " fBodyBodyGyroMag-sma()\n",
      " fBodyBodyGyroMag-energy()\n",
      " fBodyBodyGyroMag-iqr()\n",
      " fBodyBodyGyroMag-entropy()\n",
      " fBodyBodyGyroMag-maxInds\n",
      " fBodyBodyGyroMag-meanFreq()\n",
      " fBodyBodyGyroMag-skewness()\n",
      " fBodyBodyGyroMag-kurtosis()\n",
      " fBodyBodyGyroJerkMag-mean()\n",
      " fBodyBodyGyroJerkMag-std()\n",
      " fBodyBodyGyroJerkMag-mad()\n",
      " fBodyBodyGyroJerkMag-max()\n",
      " fBodyBodyGyroJerkMag-min()\n",
      " fBodyBodyGyroJerkMag-sma()\n",
      " fBodyBodyGyroJerkMag-energy()\n",
      " fBodyBodyGyroJerkMag-iqr()\n",
      " fBodyBodyGyroJerkMag-entropy()\n",
      " fBodyBodyGyroJerkMag-maxInds\n",
      " fBodyBodyGyroJerkMag-meanFreq()\n",
      " fBodyBodyGyroJerkMag-skewness()\n",
      " fBodyBodyGyroJerkMag-kurtosis()\n",
      " angle(tBodyAccMean,gravity)\n",
      " angle(tBodyAccJerkMean),gravityMean)\n",
      " angle(tBodyGyroMean,gravityMean)\n",
      " angle(tBodyGyroJerkMean,gravityMean)\n",
      " angle(X,gravityMean)\n",
      " angle(Y,gravityMean)\n",
      " angle(Z,gravityMean)\n",
      " subject\n",
      " Activity\n",
      "\n"
     ]
    }
   ],
   "source": [
    "print(*(f'{c}\\n' for c in train_df.columns))"
   ]
  },
  {
   "cell_type": "code",
   "execution_count": 5,
   "id": "d8726b60",
   "metadata": {},
   "outputs": [
    {
     "data": {
      "text/plain": [
       "array([ 1,  3,  5,  6,  7,  8, 11, 14, 15, 16, 17, 19, 21, 22, 23, 25, 26,\n",
       "       27, 28, 29, 30])"
      ]
     },
     "execution_count": 5,
     "metadata": {},
     "output_type": "execute_result"
    }
   ],
   "source": [
    "train_df['subject'].unique()"
   ]
  },
  {
   "cell_type": "code",
   "execution_count": 6,
   "id": "81af607e",
   "metadata": {},
   "outputs": [
    {
     "data": {
      "text/plain": [
       "array(['STANDING', 'SITTING', 'LAYING', 'WALKING', 'WALKING_DOWNSTAIRS',\n",
       "       'WALKING_UPSTAIRS'], dtype=object)"
      ]
     },
     "execution_count": 6,
     "metadata": {},
     "output_type": "execute_result"
    }
   ],
   "source": [
    "train_df['Activity'].unique()"
   ]
  },
  {
   "cell_type": "code",
   "execution_count": 7,
   "id": "a68bd33b",
   "metadata": {},
   "outputs": [
    {
     "data": {
      "text/plain": [
       "<AxesSubplot:>"
      ]
     },
     "execution_count": 7,
     "metadata": {},
     "output_type": "execute_result"
    },
    {
     "data": {
      "image/png": "[encoded data removed]",
      "text/plain": [
       "<Figure size 500x500 with 1 Axes>"
      ]
     },
     "metadata": {},
     "output_type": "display_data"
    }
   ],
   "source": [
    "train_df['Activity'].hist(xrot=90, bins=6, figsize=(5,5), rwidth=0.5)"
   ]
  },
  {
   "cell_type": "code",
   "execution_count": 8,
   "id": "4a18ad3c",
   "metadata": {},
   "outputs": [
    {
     "data": {
      "text/plain": [
       "(4719, 563)"
      ]
     },
     "execution_count": 8,
     "metadata": {},
     "output_type": "execute_result"
    }
   ],
   "source": [
    "# remove laying and walking data\n",
    "train_df = train_df[~train_df['Activity'].isin(['LAYING', 'WALKING'])]\n",
    "test_df = test_df[~test_df['Activity'].isin(['LAYING', 'WALKING'])]\n",
    "\n",
    "train_df.shape"
   ]
  },
  {
   "cell_type": "code",
   "execution_count": 9,
   "id": "75299541",
   "metadata": {},
   "outputs": [
    {
     "data": {
      "text/plain": [
       "<AxesSubplot:>"
      ]
     },
     "execution_count": 9,
     "metadata": {},
     "output_type": "execute_result"
    },
    {
     "data": {
      "image/png": "[encoded data removed]",
      "text/plain": [
       "<Figure size 640x480 with 1 Axes>"
      ]
     },
     "metadata": {},
     "output_type": "display_data"
    }
   ],
   "source": [
    "train_df['Activity'].hist()"
   ]
  },
  {
   "cell_type": "code",
   "execution_count": 10,
   "id": "e4e3010b",
   "metadata": {},
   "outputs": [
    {
     "data": {
      "text/plain": [
       "(4719, 31)"
      ]
     },
     "execution_count": 10,
     "metadata": {},
     "output_type": "execute_result"
    }
   ],
   "source": [
    "train_df = train_df[[\n",
    "    'tBodyAcc-mean()-X', 'tBodyAcc-mean()-Y', 'tBodyAcc-mean()-Z', 'tBodyAcc-std()-X',\n",
    "    'tBodyAcc-std()-Y', 'tBodyAcc-std()-Z', 'tBodyAcc-max()-X', 'tBodyAcc-max()-Y',\n",
    "    'tBodyAcc-max()-Z', 'tBodyAcc-min()-X', 'tBodyAcc-min()-Y', 'tBodyAcc-min()-Z',\n",
    "    \n",
    "    'tBodyAcc-mad()-X', 'tBodyAcc-mad()-Y', 'tBodyAcc-mad()-Z',\n",
    "    \n",
    "    'tBodyGyro-mean()-X', 'tBodyGyro-mean()-Y', 'tBodyGyro-mean()-Z', 'tBodyGyro-std()-X',\n",
    "    'tBodyGyro-std()-Y', 'tBodyGyro-std()-Z', 'tBodyGyro-max()-X', 'tBodyGyro-max()-Y',\n",
    "    'tBodyGyro-max()-Z', 'tBodyGyro-min()-X', 'tBodyGyro-min()-Y', 'tBodyGyro-min()-Z',\n",
    "    \n",
    "    'tBodyGyro-mad()-X', 'tBodyGyro-mad()-Y', 'tBodyGyro-mad()-Z',\n",
    "    \n",
    "    'Activity'\n",
    "]]\n",
    "\n",
    "test_df = test_df[[\n",
    "    'tBodyAcc-mean()-X', 'tBodyAcc-mean()-Y', 'tBodyAcc-mean()-Z', 'tBodyAcc-std()-X',\n",
    "    'tBodyAcc-std()-Y', 'tBodyAcc-std()-Z', 'tBodyAcc-max()-X', 'tBodyAcc-max()-Y',\n",
    "    'tBodyAcc-max()-Z', 'tBodyAcc-min()-X', 'tBodyAcc-min()-Y', 'tBodyAcc-min()-Z',\n",
    "    \n",
    "    'tBodyAcc-mad()-X', 'tBodyAcc-mad()-Y', 'tBodyAcc-mad()-Z',\n",
    "    \n",
    "    'tBodyGyro-mean()-X', 'tBodyGyro-mean()-Y', 'tBodyGyro-mean()-Z', 'tBodyGyro-std()-X',\n",
    "    'tBodyGyro-std()-Y', 'tBodyGyro-std()-Z', 'tBodyGyro-max()-X', 'tBodyGyro-max()-Y',\n",
    "    'tBodyGyro-max()-Z', 'tBodyGyro-min()-X', 'tBodyGyro-min()-Y', 'tBodyGyro-min()-Z',\n",
    "    \n",
    "    'tBodyGyro-mad()-X', 'tBodyGyro-mad()-Y', 'tBodyGyro-mad()-Z',\n",
    "    \n",
    "    'Activity'\n",
    "]]\n",
    "train_df.shape"
   ]
  },
  {
   "cell_type": "code",
   "execution_count": 11,
   "id": "103f3adf",
   "metadata": {},
   "outputs": [],
   "source": [
    "X_train = train_df.iloc[:, :-1]\n",
    "y_train = train_df[['Activity']]\n",
    "\n",
    "X_test = test_df.iloc[:, :-1]\n",
    "y_test = test_df[['Activity']]"
   ]
  },
  {
   "cell_type": "code",
   "execution_count": 12,
   "id": "25caa7c9",
   "metadata": {},
   "outputs": [
    {
     "data": {
      "text/plain": [
       "LabelEncoder()"
      ]
     },
     "execution_count": 12,
     "metadata": {},
     "output_type": "execute_result"
    }
   ],
   "source": [
    "le = preprocessing.LabelEncoder()\n",
    "le.fit(y_train['Activity'].unique().tolist())"
   ]
  },
  {
   "cell_type": "code",
   "execution_count": 13,
   "id": "316085d2",
   "metadata": {},
   "outputs": [
    {
     "name": "stderr",
     "output_type": "stream",
     "text": [
      "/Users/nguyenvanbinh/Desktop/hardware-ai/venv/lib/python3.8/site-packages/sklearn/preprocessing/_label.py:133: DataConversionWarning: A column-vector y was passed when a 1d array was expected. Please change the shape of y to (n_samples, ), for example using ravel().\n",
      "  y = column_or_1d(y, warn=True)\n"
     ]
    }
   ],
   "source": [
    "y_train = le.transform(y_train)\n",
    "y_test = le.transform(y_test)"
   ]
  },
  {
   "cell_type": "code",
   "execution_count": 14,
   "id": "17829926",
   "metadata": {},
   "outputs": [
    {
     "data": {
      "text/plain": [
       "array([1, 1, 1, ..., 3, 3, 3])"
      ]
     },
     "execution_count": 14,
     "metadata": {},
     "output_type": "execute_result"
    }
   ],
   "source": [
    "y_train"
   ]
  },
  {
   "cell_type": "code",
   "execution_count": 15,
   "id": "236d3d9c",
   "metadata": {},
   "outputs": [],
   "source": [
    "import torch\n",
    "import torch.nn as nn\n",
    "from torch.utils.data import Dataset, DataLoader"
   ]
  },
  {
   "cell_type": "code",
   "execution_count": 16,
   "id": "cf2b6aba",
   "metadata": {},
   "outputs": [],
   "source": [
    "input_size = 30\n",
    "hidden_size = 400\n",
    "num_classes = 4\n",
    "num_epochs = 64\n",
    "batch_size = 64\n",
    "learning_rate = 0.001\n",
    "device = torch.device('cpu')"
   ]
  },
  {
   "cell_type": "code",
   "execution_count": 17,
   "id": "abc56362",
   "metadata": {},
   "outputs": [],
   "source": [
    "class HarDataset(torch.utils.data.Dataset):\n",
    "    def __init__(self, X, y):\n",
    "        self.X = X\n",
    "        self.y = y\n",
    "    \n",
    "    def __getitem__(self, index):\n",
    "        return torch.Tensor(self.X.iloc[index].astype(float)), self.y[index]\n",
    "    \n",
    "    def __len__(self):\n",
    "        return len(self.X)"
   ]
  },
  {
   "cell_type": "code",
   "execution_count": 18,
   "id": "f33fc16c",
   "metadata": {},
   "outputs": [],
   "source": [
    "train_dataset = HarDataset(X_train, y_train)\n",
    "test_dataset = HarDataset(X_test, y_test)\n",
    "\n",
    "train_loader = DataLoader(\n",
    "    dataset=train_dataset, \n",
    "    batch_size=batch_size, \n",
    "    shuffle=True\n",
    ")\n",
    "test_loader = DataLoader(\n",
    "    dataset=test_dataset,\n",
    "    batch_size=batch_size,\n",
    "    shuffle=False\n",
    ")"
   ]
  },
  {
   "cell_type": "code",
   "execution_count": 19,
   "id": "0f6e324e",
   "metadata": {},
   "outputs": [],
   "source": [
    "class FCN(nn.Module):\n",
    "    def __init__(self, input_size, hidden_size, num_classes):\n",
    "        super(FCN, self).__init__()\n",
    "        self.input_size = input_size\n",
    "        self.l1 = nn.Linear(input_size, hidden_size)\n",
    "        self.relu = nn.ReLU()\n",
    "        self.l2 = nn.Linear(hidden_size, num_classes)\n",
    "    \n",
    "    def forward(self, x):\n",
    "        out = self.l1(x)\n",
    "        out = self.relu(out)\n",
    "        out = self.l2(out) \n",
    "        return out"
   ]
  },
  {
   "cell_type": "code",
   "execution_count": 20,
   "id": "0057c391",
   "metadata": {},
   "outputs": [],
   "source": [
    "model = FCN(input_size, hidden_size, num_classes).to(device)\n",
    "criterion = nn.CrossEntropyLoss()\n",
    "optimizer = torch.optim.Adam(model.parameters(), lr=learning_rate)"
   ]
  },
  {
   "cell_type": "code",
   "execution_count": 21,
   "id": "3106aec2",
   "metadata": {},
   "outputs": [],
   "source": [
    "from sklearn.metrics import confusion_matrix\n",
    "import seaborn as sb\n",
    "\n",
    "def test_accuracy():\n",
    "    y_pred = []\n",
    "    y_true = []\n",
    "    \n",
    "    with torch.no_grad():\n",
    "        n_correct = 0\n",
    "        n_samples = 0\n",
    "        for data, labels in test_loader:\n",
    "            labels = labels.to(device)\n",
    "            y_true.extend(labels)\n",
    "            outputs = model(data)\n",
    "            _, predicted = torch.max(outputs.data, 1)\n",
    "            y_pred.extend(predicted)\n",
    "            n_samples += labels.size(0)\n",
    "            n_correct += (predicted == labels).sum().item()\n",
    "\n",
    "        acc = 100.0 * n_correct / n_samples\n",
    "        print(f'Accuracy on test set: {acc:.4f}%')\n",
    "        \n",
    "        cf_mat = confusion_matrix(y_true, y_pred)\n",
    "        cm_df = pd.DataFrame(cf_mat, index=[i for i in range(num_classes)], columns=[i for i in range(num_classes)])\n",
    "        plt.figure(figsize=(4,3))\n",
    "        sb.heatmap(cm_df, annot=True)"
   ]
  },
  {
   "cell_type": "code",
   "execution_count": 22,
   "id": "402df75e",
   "metadata": {},
   "outputs": [
    {
     "name": "stdout",
     "output_type": "stream",
     "text": [
      "Before training\n",
      "Accuracy on test set: 24.2424%\n"
     ]
    },
    {
     "data": {
      "image/png": "[encoded data removed]",
      "text/plain": [
       "<Figure size 400x300 with 2 Axes>"
      ]
     },
     "metadata": {},
     "output_type": "display_data"
    }
   ],
   "source": [
    "print('Before training')\n",
    "test_accuracy()"
   ]
  },
  {
   "cell_type": "code",
   "execution_count": 23,
   "id": "679be6d7",
   "metadata": {},
   "outputs": [
    {
     "data": {
      "text/plain": [
       "74"
      ]
     },
     "execution_count": 23,
     "metadata": {},
     "output_type": "execute_result"
    }
   ],
   "source": [
    "n_total_steps = len(train_loader)\n",
    "n_total_steps"
   ]
  },
  {
   "cell_type": "code",
   "execution_count": 24,
   "id": "b1c6f99f",
   "metadata": {},
   "outputs": [
    {
     "name": "stdout",
     "output_type": "stream",
     "text": [
      "Epoch 1/64: loss = 0.6666\n",
      "Epoch 2/64: loss = 0.4396\n",
      "Epoch 3/64: loss = 0.4782\n",
      "Epoch 4/64: loss = 0.5529\n",
      "Epoch 5/64: loss = 0.5282\n",
      "Epoch 6/64: loss = 0.3865\n",
      "Epoch 7/64: loss = 0.3933\n",
      "Epoch 8/64: loss = 0.4211\n",
      "Epoch 9/64: loss = 0.4571\n",
      "Epoch 10/64: loss = 0.3979\n",
      "Epoch 11/64: loss = 0.3987\n",
      "Epoch 12/64: loss = 0.3868\n",
      "Epoch 13/64: loss = 0.4618\n",
      "Epoch 14/64: loss = 0.3838\n",
      "Epoch 15/64: loss = 0.3896\n",
      "Epoch 16/64: loss = 0.3870\n",
      "Epoch 17/64: loss = 0.3909\n",
      "Epoch 18/64: loss = 0.3197\n",
      "Epoch 19/64: loss = 0.2900\n",
      "Epoch 20/64: loss = 0.3753\n",
      "Epoch 21/64: loss = 0.3577\n",
      "Epoch 22/64: loss = 0.3949\n",
      "Epoch 23/64: loss = 0.2997\n",
      "Epoch 24/64: loss = 0.3321\n",
      "Epoch 25/64: loss = 0.4389\n",
      "Epoch 26/64: loss = 0.3101\n",
      "Epoch 27/64: loss = 0.3272\n",
      "Epoch 28/64: loss = 0.3364\n",
      "Epoch 29/64: loss = 0.2869\n",
      "Epoch 30/64: loss = 0.4534\n",
      "Epoch 31/64: loss = 0.2264\n",
      "Epoch 32/64: loss = 0.1954\n",
      "Epoch 33/64: loss = 0.3627\n",
      "Epoch 34/64: loss = 0.3534\n",
      "Epoch 35/64: loss = 0.3245\n",
      "Epoch 36/64: loss = 0.2892\n",
      "Epoch 37/64: loss = 0.2905\n",
      "Epoch 38/64: loss = 0.2907\n",
      "Epoch 39/64: loss = 0.3454\n",
      "Epoch 40/64: loss = 0.3041\n",
      "Epoch 41/64: loss = 0.3288\n",
      "Epoch 42/64: loss = 0.3774\n",
      "Epoch 43/64: loss = 0.2881\n",
      "Epoch 44/64: loss = 0.2999\n",
      "Epoch 45/64: loss = 0.2123\n",
      "Epoch 46/64: loss = 0.3750\n",
      "Epoch 47/64: loss = 0.2417\n",
      "Epoch 48/64: loss = 0.3191\n",
      "Epoch 49/64: loss = 0.3638\n",
      "Epoch 50/64: loss = 0.3522\n",
      "Epoch 51/64: loss = 0.3342\n",
      "Epoch 52/64: loss = 0.3328\n",
      "Epoch 53/64: loss = 0.2760\n",
      "Epoch 54/64: loss = 0.2772\n",
      "Epoch 55/64: loss = 0.3066\n",
      "Epoch 56/64: loss = 0.2181\n",
      "Epoch 57/64: loss = 0.3972\n",
      "Epoch 58/64: loss = 0.2666\n",
      "Epoch 59/64: loss = 0.2592\n",
      "Epoch 60/64: loss = 0.2569\n",
      "Epoch 61/64: loss = 0.2928\n",
      "Epoch 62/64: loss = 0.3114\n",
      "Epoch 63/64: loss = 0.3092\n",
      "Epoch 64/64: loss = 0.2419\n"
     ]
    }
   ],
   "source": [
    "for epoch in range(num_epochs):\n",
    "    for i, (data, label) in enumerate(train_loader):\n",
    "        label = label.to(device)\n",
    "        output = model(data)\n",
    "        loss = criterion(output, label)\n",
    "        optimizer.zero_grad()\n",
    "        loss.backward()\n",
    "        optimizer.step()\n",
    "        \n",
    "    print(f'Epoch {epoch+1}/{num_epochs}: loss = {loss.item():.4f}')"
   ]
  },
  {
   "cell_type": "code",
   "execution_count": 25,
   "id": "7a78e142",
   "metadata": {},
   "outputs": [
    {
     "name": "stdout",
     "output_type": "stream",
     "text": [
      "After training\n",
      "Accuracy on test set: 88.6102%\n"
     ]
    },
    {
     "data": {
      "image/png": "[encoded data removed]",
      "text/plain": [
       "<Figure size 400x300 with 2 Axes>"
      ]
     },
     "metadata": {},
     "output_type": "display_data"
    }
   ],
   "source": [
    "print('After training')\n",
    "test_accuracy()"
   ]
  }
 ],
 "metadata": {
  "kernelspec": {
   "display_name": "Python 3 (ipykernel)",
   "language": "python",
   "name": "python3"
  },
  "language_info": {
   "codemirror_mode": {
    "name": "ipython",
    "version": 3
   },
   "file_extension": ".py",
   "mimetype": "text/x-python",
   "name": "python",
   "nbconvert_exporter": "python",
   "pygments_lexer": "ipython3",
   "version": "3.8.2"
  }
 },
 "nbformat": 4,
 "nbformat_minor": 5
}
