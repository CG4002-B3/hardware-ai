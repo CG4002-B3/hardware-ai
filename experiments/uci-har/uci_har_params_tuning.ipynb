{
 "cells": [
  {
   "cell_type": "markdown",
   "id": "448b6403",
   "metadata": {
    "id": "448b6403"
   },
   "source": [
    "# Human Activity Recognition with Smartphones\n",
    "\n",
    "This notebook descirbes experiments on [UCI-HAR](https://www.kaggle.com/datasets/uciml/human-activity-recognition-with-smartphones) dataset"
   ]
  },
  {
   "cell_type": "code",
   "execution_count": 1,
   "id": "4b9a9ca5",
   "metadata": {
    "executionInfo": {
     "elapsed": 2592,
     "status": "ok",
     "timestamp": 1662997608363,
     "user": {
      "displayName": "Van Binh Nguyen",
      "userId": "15613676187555611204"
     },
     "user_tz": -480
    },
    "id": "4b9a9ca5"
   },
   "outputs": [],
   "source": [
    "import pandas as pd\n",
    "import matplotlib.pyplot as plt\n",
    "import numpy as np\n",
    "from sklearn import preprocessing\n",
    "from sklearn.model_selection import train_test_split"
   ]
  },
  {
   "cell_type": "code",
   "execution_count": 2,
   "id": "duis6p1XKgMb",
   "metadata": {
    "executionInfo": {
     "elapsed": 9,
     "status": "ok",
     "timestamp": 1662997609107,
     "user": {
      "displayName": "Van Binh Nguyen",
      "userId": "15613676187555611204"
     },
     "user_tz": -480
    },
    "id": "duis6p1XKgMb"
   },
   "outputs": [],
   "source": [
    "np.random.seed(42)"
   ]
  },
  {
   "cell_type": "code",
   "execution_count": 3,
   "id": "6d40564b",
   "metadata": {
    "executionInfo": {
     "elapsed": 6,
     "status": "ok",
     "timestamp": 1662997612195,
     "user": {
      "displayName": "Van Binh Nguyen",
      "userId": "15613676187555611204"
     },
     "user_tz": -480
    },
    "id": "6d40564b"
   },
   "outputs": [],
   "source": [
    "TEST_DATA = 'test.csv'\n",
    "TRAIN_DATA = 'train.csv'"
   ]
  },
  {
   "cell_type": "code",
   "execution_count": 4,
   "id": "bf061d11",
   "metadata": {
    "colab": {
     "base_uri": "https://localhost:8080/"
    },
    "executionInfo": {
     "elapsed": 1447,
     "status": "ok",
     "timestamp": 1662997613637,
     "user": {
      "displayName": "Van Binh Nguyen",
      "userId": "15613676187555611204"
     },
     "user_tz": -480
    },
    "id": "bf061d11",
    "outputId": "e974d48a-c3f7-4b38-adf9-0568835f49db"
   },
   "outputs": [
    {
     "data": {
      "text/plain": [
       "((7352, 563), (2947, 563))"
      ]
     },
     "execution_count": 4,
     "metadata": {},
     "output_type": "execute_result"
    }
   ],
   "source": [
    "train_df = pd.read_csv(TRAIN_DATA)\n",
    "test_df = pd.read_csv(TEST_DATA)\n",
    "train_df.shape, test_df.shape"
   ]
  },
  {
   "cell_type": "markdown",
   "id": "dbc89137",
   "metadata": {},
   "source": [
    "Current train:test ratio = 70:30. Further split test set to dev and test set with final train:dev:test ratio = 70:15:15.\n",
    "\n",
    "Dev set will be used for hyper-parameter tuning. Test set will only be used after the training and hyper-parameter tuning phases are finished to have a fair evaluation of the model"
   ]
  },
  {
   "cell_type": "code",
   "execution_count": 5,
   "id": "0eba1128",
   "metadata": {
    "executionInfo": {
     "elapsed": 10,
     "status": "ok",
     "timestamp": 1662997613637,
     "user": {
      "displayName": "Van Binh Nguyen",
      "userId": "15613676187555611204"
     },
     "user_tz": -480
    },
    "id": "0eba1128"
   },
   "outputs": [],
   "source": [
    "# print(*(f'{c}\\n' for c in train_df.columns))"
   ]
  },
  {
   "cell_type": "code",
   "execution_count": 6,
   "id": "d8726b60",
   "metadata": {
    "colab": {
     "base_uri": "https://localhost:8080/"
    },
    "executionInfo": {
     "elapsed": 10,
     "status": "ok",
     "timestamp": 1662997613638,
     "user": {
      "displayName": "Van Binh Nguyen",
      "userId": "15613676187555611204"
     },
     "user_tz": -480
    },
    "id": "d8726b60",
    "outputId": "260ee9db-4f6c-48ff-8879-0a70fd72b571"
   },
   "outputs": [
    {
     "data": {
      "text/plain": [
       "array([ 1,  3,  5,  6,  7,  8, 11, 14, 15, 16, 17, 19, 21, 22, 23, 25, 26,\n",
       "       27, 28, 29, 30])"
      ]
     },
     "execution_count": 6,
     "metadata": {},
     "output_type": "execute_result"
    }
   ],
   "source": [
    "train_df['subject'].unique()"
   ]
  },
  {
   "cell_type": "code",
   "execution_count": 7,
   "id": "81af607e",
   "metadata": {
    "colab": {
     "base_uri": "https://localhost:8080/"
    },
    "executionInfo": {
     "elapsed": 7,
     "status": "ok",
     "timestamp": 1662997613638,
     "user": {
      "displayName": "Van Binh Nguyen",
      "userId": "15613676187555611204"
     },
     "user_tz": -480
    },
    "id": "81af607e",
    "outputId": "47820bc6-6dd0-4ae8-fbe0-e967b2aea177"
   },
   "outputs": [
    {
     "data": {
      "text/plain": [
       "array(['STANDING', 'SITTING', 'LAYING', 'WALKING', 'WALKING_DOWNSTAIRS',\n",
       "       'WALKING_UPSTAIRS'], dtype=object)"
      ]
     },
     "execution_count": 7,
     "metadata": {},
     "output_type": "execute_result"
    }
   ],
   "source": [
    "train_df['Activity'].unique()"
   ]
  },
  {
   "cell_type": "code",
   "execution_count": 8,
   "id": "a68bd33b",
   "metadata": {
    "colab": {
     "base_uri": "https://localhost:8080/",
     "height": 445
    },
    "executionInfo": {
     "elapsed": 533,
     "status": "ok",
     "timestamp": 1662997614167,
     "user": {
      "displayName": "Van Binh Nguyen",
      "userId": "15613676187555611204"
     },
     "user_tz": -480
    },
    "id": "a68bd33b",
    "outputId": "b57ef0e1-ec9a-4181-931f-056a0e583dfb"
   },
   "outputs": [
    {
     "data": {
      "text/plain": [
       "<AxesSubplot:>"
      ]
     },
     "execution_count": 8,
     "metadata": {},
     "output_type": "execute_result"
    },
    {
     "data": {
      "image/png": "[encoded data removed]",
      "text/plain": [
       "<Figure size 500x500 with 1 Axes>"
      ]
     },
     "metadata": {},
     "output_type": "display_data"
    }
   ],
   "source": [
    "train_df['Activity'].hist(xrot=90, bins=6, figsize=(5,5), rwidth=0.5)"
   ]
  },
  {
   "cell_type": "code",
   "execution_count": 9,
   "id": "4a18ad3c",
   "metadata": {
    "colab": {
     "base_uri": "https://localhost:8080/"
    },
    "executionInfo": {
     "elapsed": 29,
     "status": "ok",
     "timestamp": 1662997614168,
     "user": {
      "displayName": "Van Binh Nguyen",
      "userId": "15613676187555611204"
     },
     "user_tz": -480
    },
    "id": "4a18ad3c",
    "outputId": "ebb2f1c7-3952-4fb3-837c-b00898573b74"
   },
   "outputs": [
    {
     "data": {
      "text/plain": [
       "(4752, 563)"
      ]
     },
     "execution_count": 9,
     "metadata": {},
     "output_type": "execute_result"
    }
   ],
   "source": [
    "# remove laying and walking data to have 4-class multinomial classification\n",
    "train_df = train_df[~train_df['Activity'].isin(['STANDING', 'WALKING'])]\n",
    "test_df = test_df[~test_df['Activity'].isin(['STANDING', 'WALKING'])]\n",
    "\n",
    "train_df.shape"
   ]
  },
  {
   "cell_type": "code",
   "execution_count": 10,
   "id": "75299541",
   "metadata": {
    "colab": {
     "base_uri": "https://localhost:8080/",
     "height": 283
    },
    "executionInfo": {
     "elapsed": 27,
     "status": "ok",
     "timestamp": 1662997614169,
     "user": {
      "displayName": "Van Binh Nguyen",
      "userId": "15613676187555611204"
     },
     "user_tz": -480
    },
    "id": "75299541",
    "outputId": "a48045cf-440a-4d75-9fae-9c630c226988"
   },
   "outputs": [
    {
     "data": {
      "text/plain": [
       "<AxesSubplot:>"
      ]
     },
     "execution_count": 10,
     "metadata": {},
     "output_type": "execute_result"
    },
    {
     "data": {
      "image/png": "[encoded data removed]",
      "text/plain": [
       "<Figure size 640x480 with 1 Axes>"
      ]
     },
     "metadata": {},
     "output_type": "display_data"
    }
   ],
   "source": [
    "train_df['Activity'].hist()"
   ]
  },
  {
   "cell_type": "code",
   "execution_count": 11,
   "id": "e4e3010b",
   "metadata": {
    "colab": {
     "base_uri": "https://localhost:8080/"
    },
    "executionInfo": {
     "elapsed": 25,
     "status": "ok",
     "timestamp": 1662997614169,
     "user": {
      "displayName": "Van Binh Nguyen",
      "userId": "15613676187555611204"
     },
     "user_tz": -480
    },
    "id": "e4e3010b",
    "outputId": "e1c426db-1131-4b79-8981-bd1e4ebcd4bb"
   },
   "outputs": [
    {
     "data": {
      "text/plain": [
       "(4752, 37)"
      ]
     },
     "execution_count": 11,
     "metadata": {},
     "output_type": "execute_result"
    }
   ],
   "source": [
    "# select meaningful time-domain features for training\n",
    "features = [\n",
    "    'tBodyAcc-mean()-X', 'tBodyAcc-mean()-Y', 'tBodyAcc-mean()-Z', 'tBodyAcc-std()-X',\n",
    "    'tBodyAcc-std()-Y', 'tBodyAcc-std()-Z', 'tBodyAcc-max()-X', 'tBodyAcc-max()-Y',\n",
    "    'tBodyAcc-max()-Z', 'tBodyAcc-min()-X', 'tBodyAcc-min()-Y', 'tBodyAcc-min()-Z',\n",
    "    \n",
    "    'tBodyGyro-mean()-X', 'tBodyGyro-mean()-Y', 'tBodyGyro-mean()-Z', 'tBodyGyro-std()-X',\n",
    "    'tBodyGyro-std()-Y', 'tBodyGyro-std()-Z', 'tBodyGyro-max()-X', 'tBodyGyro-max()-Y',\n",
    "    'tBodyGyro-max()-Z', 'tBodyGyro-min()-X', 'tBodyGyro-min()-Y', 'tBodyGyro-min()-Z',\n",
    "    \n",
    "    'tGravityAcc-std()-X', 'tGravityAcc-std()-Y', 'tGravityAcc-std()-Z', 'tGravityAcc-mad()-X',\n",
    "    'tGravityAcc-mad()-Y', 'tGravityAcc-mad()-Z', 'tGravityAcc-max()-X', 'tGravityAcc-max()-Y',\n",
    "    'tGravityAcc-max()-Z', 'tGravityAcc-min()-X', 'tGravityAcc-min()-Y', 'tGravityAcc-min()-Z',\n",
    "    \n",
    "    'Activity'\n",
    "]\n",
    "\n",
    "train_df = train_df[[f for f in features]]\n",
    "test_df = test_df[[f for f in features]]\n",
    "train_df.shape"
   ]
  },
  {
   "cell_type": "code",
   "execution_count": 12,
   "id": "103f3adf",
   "metadata": {
    "executionInfo": {
     "elapsed": 24,
     "status": "ok",
     "timestamp": 1662997614170,
     "user": {
      "displayName": "Van Binh Nguyen",
      "userId": "15613676187555611204"
     },
     "user_tz": -480
    },
    "id": "103f3adf"
   },
   "outputs": [],
   "source": [
    "X_train = train_df.iloc[:, :-1]\n",
    "y_train = train_df[['Activity']]\n",
    "\n",
    "X_test_dev = test_df.iloc[:, :-1]\n",
    "y_test_dev = test_df[['Activity']]"
   ]
  },
  {
   "cell_type": "code",
   "execution_count": 13,
   "id": "25caa7c9",
   "metadata": {
    "colab": {
     "base_uri": "https://localhost:8080/"
    },
    "executionInfo": {
     "elapsed": 24,
     "status": "ok",
     "timestamp": 1662997614171,
     "user": {
      "displayName": "Van Binh Nguyen",
      "userId": "15613676187555611204"
     },
     "user_tz": -480
    },
    "id": "25caa7c9",
    "outputId": "48277f1e-db03-49f5-f3b7-01ff57f6e93c"
   },
   "outputs": [
    {
     "data": {
      "text/plain": [
       "LabelEncoder()"
      ]
     },
     "execution_count": 13,
     "metadata": {},
     "output_type": "execute_result"
    }
   ],
   "source": [
    "le = preprocessing.LabelEncoder()\n",
    "le.fit(y_train['Activity'].unique().tolist())"
   ]
  },
  {
   "cell_type": "code",
   "execution_count": 14,
   "id": "316085d2",
   "metadata": {
    "colab": {
     "base_uri": "https://localhost:8080/"
    },
    "executionInfo": {
     "elapsed": 23,
     "status": "ok",
     "timestamp": 1662997614172,
     "user": {
      "displayName": "Van Binh Nguyen",
      "userId": "15613676187555611204"
     },
     "user_tz": -480
    },
    "id": "316085d2",
    "outputId": "65232667-d2f3-41cc-d737-c67804dadd28"
   },
   "outputs": [
    {
     "name": "stderr",
     "output_type": "stream",
     "text": [
      "/Users/nguyenvanbinh/Desktop/hardware-ai/venv/lib/python3.8/site-packages/sklearn/preprocessing/_label.py:133: DataConversionWarning: A column-vector y was passed when a 1d array was expected. Please change the shape of y to (n_samples, ), for example using ravel().\n",
      "  y = column_or_1d(y, warn=True)\n"
     ]
    }
   ],
   "source": [
    "# encode train and test set labels\n",
    "y_train = le.transform(y_train)\n",
    "y_test_dev = le.transform(y_test_dev)"
   ]
  },
  {
   "cell_type": "code",
   "execution_count": 15,
   "id": "17829926",
   "metadata": {
    "colab": {
     "base_uri": "https://localhost:8080/"
    },
    "executionInfo": {
     "elapsed": 20,
     "status": "ok",
     "timestamp": 1662997614172,
     "user": {
      "displayName": "Van Binh Nguyen",
      "userId": "15613676187555611204"
     },
     "user_tz": -480
    },
    "id": "17829926",
    "outputId": "c7e29c57-17d2-442e-e66c-7d37244db276"
   },
   "outputs": [
    {
     "data": {
      "text/plain": [
       "array([1, 1, 1, ..., 3, 3, 3])"
      ]
     },
     "execution_count": 15,
     "metadata": {},
     "output_type": "execute_result"
    }
   ],
   "source": [
    "y_train"
   ]
  },
  {
   "cell_type": "code",
   "execution_count": 16,
   "id": "E5gE_xoDKWB-",
   "metadata": {
    "executionInfo": {
     "elapsed": 20,
     "status": "ok",
     "timestamp": 1662997614173,
     "user": {
      "displayName": "Van Binh Nguyen",
      "userId": "15613676187555611204"
     },
     "user_tz": -480
    },
    "id": "E5gE_xoDKWB-"
   },
   "outputs": [],
   "source": [
    "# split test set by half to form dev and test set\n",
    "X_dev, X_test, y_dev, y_test = train_test_split(\n",
    "    X_test_dev, y_test_dev, train_size=0.5, random_state=42, shuffle=True\n",
    ")"
   ]
  },
  {
   "cell_type": "markdown",
   "id": "43ae4cf7",
   "metadata": {
    "id": "43ae4cf7"
   },
   "source": [
    "## Pytorch model\n",
    "\n",
    "Build an MLP using Pytorch. Experiment with random hyper-parameter to have an estimation of model performance"
   ]
  },
  {
   "cell_type": "code",
   "execution_count": 17,
   "id": "236d3d9c",
   "metadata": {
    "executionInfo": {
     "elapsed": 19,
     "status": "ok",
     "timestamp": 1662997614173,
     "user": {
      "displayName": "Van Binh Nguyen",
      "userId": "15613676187555611204"
     },
     "user_tz": -480
    },
    "id": "236d3d9c"
   },
   "outputs": [],
   "source": [
    "import torch\n",
    "import torch.nn as nn\n",
    "from torch.utils.data import Dataset, DataLoader"
   ]
  },
  {
   "cell_type": "code",
   "execution_count": 18,
   "id": "cf2b6aba",
   "metadata": {
    "executionInfo": {
     "elapsed": 20,
     "status": "ok",
     "timestamp": 1662997614174,
     "user": {
      "displayName": "Van Binh Nguyen",
      "userId": "15613676187555611204"
     },
     "user_tz": -480
    },
    "id": "cf2b6aba"
   },
   "outputs": [],
   "source": [
    "# try with random hidden_size and num_epochs\n",
    "input_size = 36\n",
    "hidden_size = 15\n",
    "num_classes = 4\n",
    "num_epochs = 7\n",
    "batch_size = 64\n",
    "learning_rate = 0.1\n",
    "device = torch.device('cpu')"
   ]
  },
  {
   "cell_type": "code",
   "execution_count": 19,
   "id": "abc56362",
   "metadata": {
    "executionInfo": {
     "elapsed": 20,
     "status": "ok",
     "timestamp": 1662997614174,
     "user": {
      "displayName": "Van Binh Nguyen",
      "userId": "15613676187555611204"
     },
     "user_tz": -480
    },
    "id": "abc56362"
   },
   "outputs": [],
   "source": [
    "class HarDataset(torch.utils.data.Dataset):\n",
    "    def __init__(self, X, y):\n",
    "        self.X = X\n",
    "        self.y = y\n",
    "    \n",
    "    def __getitem__(self, index):\n",
    "        return torch.Tensor(self.X.iloc[index].astype(float)), self.y[index]\n",
    "    \n",
    "    def __len__(self):\n",
    "        return len(self.X)"
   ]
  },
  {
   "cell_type": "code",
   "execution_count": 20,
   "id": "f33fc16c",
   "metadata": {
    "executionInfo": {
     "elapsed": 20,
     "status": "ok",
     "timestamp": 1662997614175,
     "user": {
      "displayName": "Van Binh Nguyen",
      "userId": "15613676187555611204"
     },
     "user_tz": -480
    },
    "id": "f33fc16c"
   },
   "outputs": [],
   "source": [
    "train_dataset = HarDataset(X_train, y_train)\n",
    "dev_dataset = HarDataset(X_dev, y_dev)\n",
    "test_dataset = HarDataset(X_test, y_test)\n",
    "\n",
    "train_loader = DataLoader(\n",
    "    dataset=train_dataset, \n",
    "    batch_size=batch_size, \n",
    "    shuffle=True\n",
    ")\n",
    "dev_loader = DataLoader(\n",
    "    dataset=dev_dataset, \n",
    "    batch_size=batch_size, \n",
    "    shuffle=False   \n",
    ")\n",
    "test_loader = DataLoader(\n",
    "    dataset=test_dataset,\n",
    "    batch_size=batch_size,\n",
    "    shuffle=False\n",
    ")"
   ]
  },
  {
   "cell_type": "code",
   "execution_count": 21,
   "id": "0f6e324e",
   "metadata": {
    "executionInfo": {
     "elapsed": 21,
     "status": "ok",
     "timestamp": 1662997614176,
     "user": {
      "displayName": "Van Binh Nguyen",
      "userId": "15613676187555611204"
     },
     "user_tz": -480
    },
    "id": "0f6e324e"
   },
   "outputs": [],
   "source": [
    "class FCN(nn.Module):\n",
    "    '''\n",
    "    Fully connected network (MLP) with one hidden layer using ReLU activation function\n",
    "    '''\n",
    "    def __init__(self, input_size, hidden_size, num_classes):\n",
    "        super(FCN, self).__init__()\n",
    "        self.input_size = input_size\n",
    "        self.l1 = nn.Linear(input_size, hidden_size)\n",
    "        self.relu = nn.ReLU()\n",
    "        self.l2 = nn.Linear(hidden_size, num_classes)\n",
    "    \n",
    "    def forward(self, x):\n",
    "        out = self.l1(x)\n",
    "        out = self.relu(out)\n",
    "        out = self.l2(out) \n",
    "        return out"
   ]
  },
  {
   "cell_type": "code",
   "execution_count": 22,
   "id": "0057c391",
   "metadata": {
    "executionInfo": {
     "elapsed": 22,
     "status": "ok",
     "timestamp": 1662997614177,
     "user": {
      "displayName": "Van Binh Nguyen",
      "userId": "15613676187555611204"
     },
     "user_tz": -480
    },
    "id": "0057c391"
   },
   "outputs": [],
   "source": [
    "model = FCN(input_size, hidden_size, num_classes).to(device)\n",
    "criterion = nn.CrossEntropyLoss()\n",
    "optimizer = torch.optim.Adam(model.parameters(), lr=learning_rate)\n",
    "scheduler = torch.optim.lr_scheduler.StepLR(optimizer, step_size=2, gamma=0.5)"
   ]
  },
  {
   "cell_type": "code",
   "execution_count": 23,
   "id": "3106aec2",
   "metadata": {
    "executionInfo": {
     "elapsed": 23,
     "status": "ok",
     "timestamp": 1662997614178,
     "user": {
      "displayName": "Van Binh Nguyen",
      "userId": "15613676187555611204"
     },
     "user_tz": -480
    },
    "id": "3106aec2"
   },
   "outputs": [],
   "source": [
    "from sklearn.metrics import confusion_matrix\n",
    "import seaborn as sb\n",
    "\n",
    "def test_conf_matrix(benchmark_loader, is_test_set=False):\n",
    "    y_pred = []\n",
    "    y_true = []\n",
    "    \n",
    "    with torch.no_grad():\n",
    "        n_correct = 0\n",
    "        n_samples = 0\n",
    "        for data, labels in benchmark_loader:\n",
    "            labels = labels.to(device)\n",
    "            y_true.extend(labels)\n",
    "            outputs = model(data)\n",
    "            _, predicted = torch.max(outputs.data, 1)\n",
    "            y_pred.extend(predicted)\n",
    "            n_samples += labels.size(0)\n",
    "            n_correct += (predicted == labels).sum().item()\n",
    "\n",
    "        acc = 100.0 * n_correct / n_samples\n",
    "        if is_test_set:\n",
    "            print(f'Accuracy on test set: {acc:.4f}%')\n",
    "        else:\n",
    "            print(f'Accuracy on dev set: {acc:.4f}%')\n",
    "        \n",
    "        cf_mat = confusion_matrix(y_true, y_pred)\n",
    "        cm_df = pd.DataFrame(cf_mat, index=[i for i in range(num_classes)], columns=[i for i in range(num_classes)])\n",
    "        plt.figure(figsize=(4,3))\n",
    "        sb.heatmap(cm_df, annot=True)"
   ]
  },
  {
   "cell_type": "code",
   "execution_count": 24,
   "id": "402df75e",
   "metadata": {
    "colab": {
     "base_uri": "https://localhost:8080/",
     "height": 246
    },
    "executionInfo": {
     "elapsed": 1099,
     "status": "ok",
     "timestamp": 1662997615255,
     "user": {
      "displayName": "Van Binh Nguyen",
      "userId": "15613676187555611204"
     },
     "user_tz": -480
    },
    "id": "402df75e",
    "outputId": "9888b416-7f1f-4515-e184-422b10f575b2"
   },
   "outputs": [
    {
     "name": "stdout",
     "output_type": "stream",
     "text": [
      "Before training\n",
      "Accuracy on dev set: 10.8446%\n"
     ]
    },
    {
     "data": {
      "image/png": "[encoded data removed]",
      "text/plain": [
       "<Figure size 400x300 with 2 Axes>"
      ]
     },
     "metadata": {},
     "output_type": "display_data"
    }
   ],
   "source": [
    "print('Before training')\n",
    "test_conf_matrix(dev_loader)"
   ]
  },
  {
   "cell_type": "code",
   "execution_count": 25,
   "id": "679be6d7",
   "metadata": {
    "colab": {
     "base_uri": "https://localhost:8080/"
    },
    "executionInfo": {
     "elapsed": 11,
     "status": "ok",
     "timestamp": 1662997615256,
     "user": {
      "displayName": "Van Binh Nguyen",
      "userId": "15613676187555611204"
     },
     "user_tz": -480
    },
    "id": "679be6d7",
    "outputId": "a636bcd7-2f2d-4782-eb0d-5c71e9f22564"
   },
   "outputs": [
    {
     "data": {
      "text/plain": [
       "75"
      ]
     },
     "execution_count": 25,
     "metadata": {},
     "output_type": "execute_result"
    }
   ],
   "source": [
    "n_total_steps = len(train_loader)\n",
    "n_total_steps"
   ]
  },
  {
   "cell_type": "code",
   "execution_count": 26,
   "id": "b1c6f99f",
   "metadata": {
    "colab": {
     "base_uri": "https://localhost:8080/"
    },
    "executionInfo": {
     "elapsed": 5977,
     "status": "ok",
     "timestamp": 1662997621227,
     "user": {
      "displayName": "Van Binh Nguyen",
      "userId": "15613676187555611204"
     },
     "user_tz": -480
    },
    "id": "b1c6f99f",
    "outputId": "7c6764e6-c6e8-4378-dd05-1d2b2b45aaaa"
   },
   "outputs": [
    {
     "name": "stdout",
     "output_type": "stream",
     "text": [
      "Epoch 1/7: loss = 0.3584; learning rate = 0.1\n",
      "Epoch 3/7: loss = 0.0178; learning rate = 0.05\n",
      "Epoch 5/7: loss = 0.0199; learning rate = 0.025\n",
      "Epoch 7/7: loss = 0.0006; learning rate = 0.0125\n"
     ]
    }
   ],
   "source": [
    "losses = [] # to record loss over training time\n",
    "\n",
    "for epoch in range(num_epochs):\n",
    "    for i, (data, label) in enumerate(train_loader):\n",
    "        label = label.to(device)\n",
    "        output = model(data)\n",
    "        loss = criterion(output, label)\n",
    "        optimizer.zero_grad()\n",
    "        loss.backward()\n",
    "        optimizer.step()\n",
    "        losses.append(loss.item())\n",
    "    \n",
    "    scheduler.step()\n",
    "\n",
    "    if epoch % 2 == 0:\n",
    "        print(f'Epoch {epoch+1}/{num_epochs}: loss = {loss.item():.4f}', end='; ')\n",
    "        print(f\"learning rate = {optimizer.param_groups[0]['lr']}\")"
   ]
  },
  {
   "cell_type": "code",
   "execution_count": 27,
   "id": "7a78e142",
   "metadata": {
    "colab": {
     "base_uri": "https://localhost:8080/",
     "height": 246
    },
    "executionInfo": {
     "elapsed": 723,
     "status": "ok",
     "timestamp": 1662997621927,
     "user": {
      "displayName": "Van Binh Nguyen",
      "userId": "15613676187555611204"
     },
     "user_tz": -480
    },
    "id": "7a78e142",
    "outputId": "3c576e3b-83a1-498e-c6d2-657f077e051f"
   },
   "outputs": [
    {
     "name": "stdout",
     "output_type": "stream",
     "text": [
      "After training\n",
      "Accuracy on dev set: 94.6820%\n"
     ]
    },
    {
     "data": {
      "image/png": "[encoded data removed]",
      "text/plain": [
       "<Figure size 400x300 with 2 Axes>"
      ]
     },
     "metadata": {},
     "output_type": "display_data"
    }
   ],
   "source": [
    "print('After training')\n",
    "test_conf_matrix(dev_loader)"
   ]
  },
  {
   "cell_type": "code",
   "execution_count": 28,
   "id": "922b97c2",
   "metadata": {
    "colab": {
     "base_uri": "https://localhost:8080/",
     "height": 282
    },
    "executionInfo": {
     "elapsed": 24,
     "status": "ok",
     "timestamp": 1662997621927,
     "user": {
      "displayName": "Van Binh Nguyen",
      "userId": "15613676187555611204"
     },
     "user_tz": -480
    },
    "id": "922b97c2",
    "outputId": "81e54a07-1cc8-4bb4-c1cd-795149d9f4fb"
   },
   "outputs": [
    {
     "data": {
      "text/plain": [
       "[<matplotlib.lines.Line2D at 0x7f979c9a0dc0>]"
      ]
     },
     "execution_count": 28,
     "metadata": {},
     "output_type": "execute_result"
    },
    {
     "data": {
      "image/png": "[encoded data removed]",
      "text/plain": [
       "<Figure size 640x480 with 1 Axes>"
      ]
     },
     "metadata": {},
     "output_type": "display_data"
    }
   ],
   "source": [
    "plt.plot(losses)"
   ]
  },
  {
   "cell_type": "markdown",
   "id": "iYV9nme12Ump",
   "metadata": {
    "id": "iYV9nme12Ump"
   },
   "source": [
    "## Hyper-parameter tuning using RayTune"
   ]
  },
  {
   "cell_type": "code",
   "execution_count": 29,
   "id": "y5gnQj6m2ZaD",
   "metadata": {
    "id": "y5gnQj6m2ZaD"
   },
   "outputs": [],
   "source": [
    "from ray import tune "
   ]
  },
  {
   "cell_type": "code",
   "execution_count": 30,
   "id": "ImpK54dt5b28",
   "metadata": {
    "id": "ImpK54dt5b28"
   },
   "outputs": [],
   "source": [
    "def train(model, optimizer, train_loader, epochs):\n",
    "    model.train()\n",
    "    for epoch in range(epochs):\n",
    "        for i, (data, label) in enumerate(train_loader):\n",
    "            label = label.to(device)\n",
    "            output = model(data)\n",
    "            loss = criterion(output, label)\n",
    "            optimizer.zero_grad()\n",
    "            loss.backward()\n",
    "            optimizer.step()\n",
    "        scheduler.step()"
   ]
  },
  {
   "cell_type": "code",
   "execution_count": 31,
   "id": "sDg6TBaS54Tj",
   "metadata": {
    "id": "sDg6TBaS54Tj"
   },
   "outputs": [],
   "source": [
    "def test(model, benchmark_loader):\n",
    "    y_pred = []\n",
    "    y_true = []\n",
    "    \n",
    "    with torch.no_grad():\n",
    "        n_correct = 0\n",
    "        n_samples = 0\n",
    "        for data, labels in benchmark_loader:\n",
    "            labels = labels.to(device)\n",
    "            y_true.extend(labels)\n",
    "            outputs = model(data)\n",
    "            _, predicted = torch.max(outputs.data, 1)\n",
    "            y_pred.extend(predicted)\n",
    "            n_samples += labels.size(0)\n",
    "            n_correct += (predicted == labels).sum().item()\n",
    "\n",
    "        acc = 100.0 * n_correct / n_samples\n",
    "        return acc"
   ]
  },
  {
   "cell_type": "code",
   "execution_count": 36,
   "id": "Hrn5XIbj2nzC",
   "metadata": {
    "colab": {
     "base_uri": "https://localhost:8080/",
     "height": 174
    },
    "executionInfo": {
     "elapsed": 539765,
     "status": "ok",
     "timestamp": 1662995418960,
     "user": {
      "displayName": "Van Binh Nguyen",
      "userId": "15613676187555611204"
     },
     "user_tz": -480
    },
    "id": "Hrn5XIbj2nzC",
    "outputId": "114e0a39-068d-4b13-a825-626baa663013"
   },
   "outputs": [
    {
     "data": {
      "text/html": [
       "== Status ==<br>Current time: 2022-09-13 11:56:33 (running for 00:07:15.63)<br>Memory usage on this node: 4.7/8.0 GiB<br>Using FIFO scheduling algorithm.<br>Resources requested: 0/4 CPUs, 0/0 GPUs, 0.0/2.34 GiB heap, 0.0/1.17 GiB objects<br>Result logdir: /Users/nguyenvanbinh/ray_results/train_fcn_2022-09-13_11-49-18<br>Number of trials: 105/105 (105 TERMINATED)<br><br>"
      ],
      "text/plain": [
       "<IPython.core.display.HTML object>"
      ]
     },
     "metadata": {},
     "output_type": "display_data"
    },
    {
     "name": "stderr",
     "output_type": "stream",
     "text": [
      "2022-09-13 11:56:34,015\tINFO tune.py:758 -- Total run time: 435.91 seconds (435.61 seconds for the tuning loop).\n"
     ]
    }
   ],
   "source": [
    "def train_fcn(config):\n",
    "    model = FCN(input_size=36, hidden_size=config['hidden'], num_classes=4)\n",
    "    criterion = nn.CrossEntropyLoss()\n",
    "    optimizer = torch.optim.Adam(model.parameters(), lr=config['lr'])\n",
    "    scheduler = torch.optim.lr_scheduler.StepLR(optimizer, step_size=2, gamma=0.5)\n",
    "    epochs = config['epochs']\n",
    "    for i in range(2):\n",
    "        train(model, optimizer, train_loader, epochs=5)\n",
    "        acc = test(model, dev_loader)\n",
    "        tune.report(mean_accuracy=acc)\n",
    "\n",
    "# run grid_search with different values of learning rate, number of hidden neurons and number of epochs\n",
    "analysis = tune.run(\n",
    "    train_fcn, \n",
    "    config={\n",
    "        \"lr\": tune.grid_search([0.001, 0.01, 0.1]),\n",
    "        'hidden': tune.grid_search(list(range(5,40,5))),\n",
    "        'epochs': tune.grid_search(list(range(5,10,1)))\n",
    "    }, \n",
    "    verbose=1\n",
    ")"
   ]
  },
  {
   "cell_type": "code",
   "execution_count": 37,
   "id": "kYEABpde-onX",
   "metadata": {
    "colab": {
     "base_uri": "https://localhost:8080/",
     "height": 560
    },
    "executionInfo": {
     "elapsed": 7,
     "status": "ok",
     "timestamp": 1662995473371,
     "user": {
      "displayName": "Van Binh Nguyen",
      "userId": "15613676187555611204"
     },
     "user_tz": -480
    },
    "id": "kYEABpde-onX",
    "outputId": "580b8e70-ac50-42a1-889e-99f8676ff1a2"
   },
   "outputs": [
    {
     "data": {
      "text/html": [
       "<div>\n",
       "<style scoped>\n",
       "    .dataframe tbody tr th:only-of-type {\n",
       "        vertical-align: middle;\n",
       "    }\n",
       "\n",
       "    .dataframe tbody tr th {\n",
       "        vertical-align: top;\n",
       "    }\n",
       "\n",
       "    .dataframe thead th {\n",
       "        text-align: right;\n",
       "    }\n",
       "</style>\n",
       "<table border=\"1\" class=\"dataframe\">\n",
       "  <thead>\n",
       "    <tr style=\"text-align: right;\">\n",
       "      <th></th>\n",
       "      <th>mean_accuracy</th>\n",
       "      <th>time_this_iter_s</th>\n",
       "      <th>done</th>\n",
       "      <th>timesteps_total</th>\n",
       "      <th>episodes_total</th>\n",
       "      <th>training_iteration</th>\n",
       "      <th>trial_id</th>\n",
       "      <th>experiment_id</th>\n",
       "      <th>date</th>\n",
       "      <th>timestamp</th>\n",
       "      <th>...</th>\n",
       "      <th>hostname</th>\n",
       "      <th>node_ip</th>\n",
       "      <th>time_since_restore</th>\n",
       "      <th>timesteps_since_restore</th>\n",
       "      <th>iterations_since_restore</th>\n",
       "      <th>warmup_time</th>\n",
       "      <th>config/epochs</th>\n",
       "      <th>config/hidden</th>\n",
       "      <th>config/lr</th>\n",
       "      <th>logdir</th>\n",
       "    </tr>\n",
       "  </thead>\n",
       "  <tbody>\n",
       "    <tr>\n",
       "      <th>0</th>\n",
       "      <td>90.198123</td>\n",
       "      <td>7.718296</td>\n",
       "      <td>False</td>\n",
       "      <td>NaN</td>\n",
       "      <td>NaN</td>\n",
       "      <td>2</td>\n",
       "      <td>0b156_00000</td>\n",
       "      <td>2cef81bb01c6462e944ed02bd263da2d</td>\n",
       "      <td>2022-09-13_11-49-37</td>\n",
       "      <td>1663040977</td>\n",
       "      <td>...</td>\n",
       "      <td>Van-Binhs-Mac.local</td>\n",
       "      <td>127.0.0.1</td>\n",
       "      <td>15.165091</td>\n",
       "      <td>0</td>\n",
       "      <td>2</td>\n",
       "      <td>0.002672</td>\n",
       "      <td>5</td>\n",
       "      <td>5</td>\n",
       "      <td>0.001</td>\n",
       "      <td>/Users/nguyenvanbinh/ray_results/train_fcn_202...</td>\n",
       "    </tr>\n",
       "    <tr>\n",
       "      <th>1</th>\n",
       "      <td>87.799791</td>\n",
       "      <td>7.968555</td>\n",
       "      <td>False</td>\n",
       "      <td>NaN</td>\n",
       "      <td>NaN</td>\n",
       "      <td>2</td>\n",
       "      <td>0b156_00001</td>\n",
       "      <td>823b512ce05a485cb9aa1e9f995c4fc0</td>\n",
       "      <td>2022-09-13_11-49-40</td>\n",
       "      <td>1663040980</td>\n",
       "      <td>...</td>\n",
       "      <td>Van-Binhs-Mac.local</td>\n",
       "      <td>127.0.0.1</td>\n",
       "      <td>15.367696</td>\n",
       "      <td>0</td>\n",
       "      <td>2</td>\n",
       "      <td>0.003856</td>\n",
       "      <td>6</td>\n",
       "      <td>5</td>\n",
       "      <td>0.001</td>\n",
       "      <td>/Users/nguyenvanbinh/ray_results/train_fcn_202...</td>\n",
       "    </tr>\n",
       "    <tr>\n",
       "      <th>2</th>\n",
       "      <td>91.866528</td>\n",
       "      <td>8.050273</td>\n",
       "      <td>False</td>\n",
       "      <td>NaN</td>\n",
       "      <td>NaN</td>\n",
       "      <td>2</td>\n",
       "      <td>0b156_00002</td>\n",
       "      <td>c60808d5f74c49b4bcafc0e6721b115b</td>\n",
       "      <td>2022-09-13_11-49-41</td>\n",
       "      <td>1663040981</td>\n",
       "      <td>...</td>\n",
       "      <td>Van-Binhs-Mac.local</td>\n",
       "      <td>127.0.0.1</td>\n",
       "      <td>15.592065</td>\n",
       "      <td>0</td>\n",
       "      <td>2</td>\n",
       "      <td>0.003550</td>\n",
       "      <td>7</td>\n",
       "      <td>5</td>\n",
       "      <td>0.001</td>\n",
       "      <td>/Users/nguyenvanbinh/ray_results/train_fcn_202...</td>\n",
       "    </tr>\n",
       "  </tbody>\n",
       "</table>\n",
       "<p>3 rows × 22 columns</p>\n",
       "</div>"
      ],
      "text/plain": [
       "   mean_accuracy  time_this_iter_s   done  timesteps_total  episodes_total  \\\n",
       "0      90.198123          7.718296  False              NaN             NaN   \n",
       "1      87.799791          7.968555  False              NaN             NaN   \n",
       "2      91.866528          8.050273  False              NaN             NaN   \n",
       "\n",
       "   training_iteration     trial_id                     experiment_id  \\\n",
       "0                   2  0b156_00000  2cef81bb01c6462e944ed02bd263da2d   \n",
       "1                   2  0b156_00001  823b512ce05a485cb9aa1e9f995c4fc0   \n",
       "2                   2  0b156_00002  c60808d5f74c49b4bcafc0e6721b115b   \n",
       "\n",
       "                  date   timestamp  ...             hostname    node_ip  \\\n",
       "0  2022-09-13_11-49-37  1663040977  ...  Van-Binhs-Mac.local  127.0.0.1   \n",
       "1  2022-09-13_11-49-40  1663040980  ...  Van-Binhs-Mac.local  127.0.0.1   \n",
       "2  2022-09-13_11-49-41  1663040981  ...  Van-Binhs-Mac.local  127.0.0.1   \n",
       "\n",
       "  time_since_restore timesteps_since_restore  iterations_since_restore  \\\n",
       "0          15.165091                       0                         2   \n",
       "1          15.367696                       0                         2   \n",
       "2          15.592065                       0                         2   \n",
       "\n",
       "   warmup_time  config/epochs  config/hidden  config/lr  \\\n",
       "0     0.002672              5              5      0.001   \n",
       "1     0.003856              6              5      0.001   \n",
       "2     0.003550              7              5      0.001   \n",
       "\n",
       "                                              logdir  \n",
       "0  /Users/nguyenvanbinh/ray_results/train_fcn_202...  \n",
       "1  /Users/nguyenvanbinh/ray_results/train_fcn_202...  \n",
       "2  /Users/nguyenvanbinh/ray_results/train_fcn_202...  \n",
       "\n",
       "[3 rows x 22 columns]"
      ]
     },
     "execution_count": 37,
     "metadata": {},
     "output_type": "execute_result"
    }
   ],
   "source": [
    "df = analysis.dataframe()\n",
    "df.head(3)"
   ]
  },
  {
   "cell_type": "code",
   "execution_count": 38,
   "id": "0nb1WJ7l6DFd",
   "metadata": {
    "colab": {
     "base_uri": "https://localhost:8080/"
    },
    "executionInfo": {
     "elapsed": 310,
     "status": "ok",
     "timestamp": 1662995791736,
     "user": {
      "displayName": "Van Binh Nguyen",
      "userId": "15613676187555611204"
     },
     "user_tz": -480
    },
    "id": "0nb1WJ7l6DFd",
    "outputId": "79cff186-f991-4859-e60e-34b4acaf08ff"
   },
   "outputs": [
    {
     "data": {
      "text/plain": [
       "(95.93326381647549, {'lr': 0.01, 'hidden': 25, 'epochs': 6})"
      ]
     },
     "execution_count": 38,
     "metadata": {},
     "output_type": "execute_result"
    }
   ],
   "source": [
    "best_result = analysis.get_best_trial(metric=\"mean_accuracy\", mode='max').last_result  # Get best trial's last results\n",
    "best_result['mean_accuracy'], best_result['config']"
   ]
  },
  {
   "cell_type": "code",
   "execution_count": null,
   "id": "777b4ca8",
   "metadata": {},
   "outputs": [],
   "source": [
    "assert False"
   ]
  },
  {
   "cell_type": "markdown",
   "id": "ffb94b3b",
   "metadata": {
    "id": "_UVfLE1_QUzs"
   },
   "source": [
    "## Re-train with selected hyper-params"
   ]
  },
  {
   "cell_type": "code",
   "execution_count": 40,
   "id": "5d1f04fb",
   "metadata": {},
   "outputs": [
    {
     "name": "stdout",
     "output_type": "stream",
     "text": [
      "Epoch 1/6: loss = 0.0490; learning rate = 0.01\n",
      "Epoch 3/6: loss = 0.0225; learning rate = 0.005\n",
      "Epoch 5/6: loss = 0.0689; learning rate = 0.0025\n"
     ]
    }
   ],
   "source": [
    "model = FCN(input_size=36, hidden_size=25, num_classes=4).to(device)\n",
    "num_epochs = 6\n",
    "learning_rate = 0.01\n",
    "\n",
    "criterion = nn.CrossEntropyLoss()\n",
    "optimizer = torch.optim.Adam(model.parameters(), lr=learning_rate)\n",
    "scheduler = torch.optim.lr_scheduler.StepLR(optimizer, step_size=2, gamma=0.5)\n",
    "\n",
    "losses = []\n",
    "\n",
    "for epoch in range(num_epochs):\n",
    "    for i, (data, label) in enumerate(train_loader):\n",
    "        label = label.to(device)\n",
    "        output = model(data)\n",
    "        loss = criterion(output, label)\n",
    "        optimizer.zero_grad()\n",
    "        loss.backward()\n",
    "        optimizer.step()\n",
    "        losses.append(loss.item())\n",
    "    \n",
    "    scheduler.step()\n",
    "\n",
    "    if epoch % 2 == 0:\n",
    "        print(f'Epoch {epoch+1}/{num_epochs}: loss = {loss.item():.4f}', end='; ')\n",
    "        print(f\"learning rate = {optimizer.param_groups[0]['lr']}\")"
   ]
  },
  {
   "cell_type": "code",
   "execution_count": 41,
   "id": "78e60db7",
   "metadata": {},
   "outputs": [
    {
     "data": {
      "text/plain": [
       "[<matplotlib.lines.Line2D at 0x7f979aeb1610>]"
      ]
     },
     "execution_count": 41,
     "metadata": {},
     "output_type": "execute_result"
    },
    {
     "data": {
      "image/png": "[encoded data removed]",
      "text/plain": [
       "<Figure size 640x480 with 1 Axes>"
      ]
     },
     "metadata": {},
     "output_type": "display_data"
    }
   ],
   "source": [
    "plt.plot(losses)"
   ]
  },
  {
   "cell_type": "code",
   "execution_count": 42,
   "id": "bb81640a",
   "metadata": {},
   "outputs": [
    {
     "name": "stdout",
     "output_type": "stream",
     "text": [
      "After training\n",
      "Accuracy on dev set: 95.7247%\n"
     ]
    },
    {
     "data": {
      "image/png": "[encoded data removed]",
      "text/plain": [
       "<Figure size 400x300 with 2 Axes>"
      ]
     },
     "metadata": {},
     "output_type": "display_data"
    }
   ],
   "source": [
    "print('After training')\n",
    "test_conf_matrix(dev_loader)"
   ]
  },
  {
   "cell_type": "code",
   "execution_count": 43,
   "id": "e35b8a61",
   "metadata": {},
   "outputs": [
    {
     "name": "stdout",
     "output_type": "stream",
     "text": [
      "Accuracy on test set: 94.5833%\n"
     ]
    },
    {
     "data": {
      "image/png": "[encoded data removed]",
      "text/plain": [
       "<Figure size 400x300 with 2 Axes>"
      ]
     },
     "metadata": {},
     "output_type": "display_data"
    }
   ],
   "source": [
    "test_conf_matrix(test_loader, True)"
   ]
  },
  {
   "cell_type": "code",
   "execution_count": 44,
   "id": "BVH3R4W2xAIX",
   "metadata": {
    "executionInfo": {
     "elapsed": 301,
     "status": "ok",
     "timestamp": 1662997871830,
     "user": {
      "displayName": "Van Binh Nguyen",
      "userId": "15613676187555611204"
     },
     "user_tz": -480
    },
    "id": "BVH3R4W2xAIX"
   },
   "outputs": [],
   "source": [
    "torch.save(model, 'model_finetune.pth')"
   ]
  },
  {
   "cell_type": "code",
   "execution_count": null,
   "id": "f56b070d",
   "metadata": {},
   "outputs": [],
   "source": []
  }
 ],
 "metadata": {
  "colab": {
   "collapsed_sections": [],
   "provenance": []
  },
  "kernelspec": {
   "display_name": "Python 3 (ipykernel)",
   "language": "python",
   "name": "python3"
  },
  "language_info": {
   "codemirror_mode": {
    "name": "ipython",
    "version": 3
   },
   "file_extension": ".py",
   "mimetype": "text/x-python",
   "name": "python",
   "nbconvert_exporter": "python",
   "pygments_lexer": "ipython3",
   "version": "3.8.2"
  }
 },
 "nbformat": 4,
 "nbformat_minor": 5
}
