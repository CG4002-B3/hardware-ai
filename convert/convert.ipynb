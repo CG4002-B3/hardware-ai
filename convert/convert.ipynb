{
 "cells": [
  {
   "cell_type": "code",
   "execution_count": 1,
   "id": "deec98c1",
   "metadata": {},
   "outputs": [],
   "source": [
    "import json\n",
    "import os"
   ]
  },
  {
   "cell_type": "code",
   "execution_count": 4,
   "id": "cb4f5f78",
   "metadata": {},
   "outputs": [],
   "source": [
    "for file in os.listdir('json'):\n",
    "    if file[-3:] == 'txt':\n",
    "        with open(f'json/{file}', 'r') as f:\n",
    "            line = f.readline()\n",
    "            data = json.loads(line)['data']\n",
    "        with open(f'csv/{file}', 'w') as f:\n",
    "            for datapoint in data:\n",
    "                for i, n in enumerate(datapoint):\n",
    "                    if i != 5:\n",
    "                        f.write(str(n))\n",
    "                        f.write(',')\n",
    "                    else:\n",
    "                        f.write(str(n))\n",
    "                        f.write('\\n')"
   ]
  },
  {
   "cell_type": "code",
   "execution_count": null,
   "id": "13b50452",
   "metadata": {},
   "outputs": [],
   "source": []
  }
 ],
 "metadata": {
  "kernelspec": {
   "display_name": "Python 3 (ipykernel)",
   "language": "python",
   "name": "python3"
  },
  "language_info": {
   "codemirror_mode": {
    "name": "ipython",
    "version": 3
   },
   "file_extension": ".py",
   "mimetype": "text/x-python",
   "name": "python",
   "nbconvert_exporter": "python",
   "pygments_lexer": "ipython3",
   "version": "3.9.12"
  }
 },
 "nbformat": 4,
 "nbformat_minor": 5
}
