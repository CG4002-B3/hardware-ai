{
 "cells": [
  {
   "cell_type": "code",
   "execution_count": 1,
   "id": "ce5b25e4",
   "metadata": {},
   "outputs": [
    {
     "data": {
      "application/javascript": [
       "\n",
       "try {\n",
       "require(['notebook/js/codecell'], function(codecell) {\n",
       "  codecell.CodeCell.options_default.highlight_modes[\n",
       "      'magic_text/x-csrc'] = {'reg':[/^%%microblaze/]};\n",
       "  Jupyter.notebook.events.one('kernel_ready.Kernel', function(){\n",
       "      Jupyter.notebook.get_cells().map(function(cell){\n",
       "          if (cell.cell_type == 'code'){ cell.auto_highlight(); } }) ;\n",
       "  });\n",
       "});\n",
       "} catch (e) {};\n"
      ]
     },
     "metadata": {},
     "output_type": "display_data"
    },
    {
     "data": {
      "application/javascript": [
       "\n",
       "try {\n",
       "require(['notebook/js/codecell'], function(codecell) {\n",
       "  codecell.CodeCell.options_default.highlight_modes[\n",
       "      'magic_text/x-csrc'] = {'reg':[/^%%pybind11/]};\n",
       "  Jupyter.notebook.events.one('kernel_ready.Kernel', function(){\n",
       "      Jupyter.notebook.get_cells().map(function(cell){\n",
       "          if (cell.cell_type == 'code'){ cell.auto_highlight(); } }) ;\n",
       "  });\n",
       "});\n",
       "} catch (e) {};\n"
      ]
     },
     "metadata": {},
     "output_type": "display_data"
    }
   ],
   "source": [
    "import pynq\n",
    "import numpy as np\n",
    "from pynq import Overlay, allocate\n",
    "import pandas as pd\n",
    "import time\n",
    "%matplotlib inline"
   ]
  },
  {
   "cell_type": "code",
   "execution_count": 2,
   "id": "fff6305e",
   "metadata": {},
   "outputs": [],
   "source": [
    "rails = pynq.get_rails()\n",
    "rail_name = 'PSINT_FP'"
   ]
  },
  {
   "cell_type": "code",
   "execution_count": 3,
   "id": "ad4ea0c4",
   "metadata": {},
   "outputs": [],
   "source": [
    "def get_recorder():\n",
    "    return pynq.DataRecorder(rails[rail_name].power)"
   ]
  },
  {
   "cell_type": "code",
   "execution_count": 4,
   "id": "11dc3da2",
   "metadata": {},
   "outputs": [
    {
     "name": "stdout",
     "output_type": "stream",
     "text": [
      "  current CPU frequency is 1.20 GHz (asserted by call to hardware).\r\n",
      "  current CPU frequency is 1.20 GHz (asserted by call to hardware).\r\n",
      "  current CPU frequency is 1.20 GHz (asserted by call to hardware).\r\n",
      "  current CPU frequency is 1.20 GHz (asserted by call to hardware).\r\n"
     ]
    }
   ],
   "source": [
    "# set cpu frequency to default value\n",
    "!cpufreq-set -f 1200000\n",
    "!cpufreq-info | grep \" current CPU frequency\""
   ]
  },
  {
   "cell_type": "code",
   "execution_count": 5,
   "id": "1f37f204",
   "metadata": {},
   "outputs": [
    {
     "name": "stdout",
     "output_type": "stream",
     "text": [
      "/home/xilinx/jupyter_notebooks\r\n"
     ]
    }
   ],
   "source": [
    "!pwd"
   ]
  },
  {
   "cell_type": "code",
   "execution_count": 6,
   "id": "bca575a8",
   "metadata": {},
   "outputs": [
    {
     "name": "stdout",
     "output_type": "stream",
     "text": [
      "/home/xilinx/test\n"
     ]
    }
   ],
   "source": [
    "%cd ../test"
   ]
  },
  {
   "cell_type": "code",
   "execution_count": 7,
   "id": "47c135d3",
   "metadata": {},
   "outputs": [
    {
     "name": "stdout",
     "output_type": "stream",
     "text": [
      "design_1_ap_fixed.bit\tdesign_1_fine_tune.hwh\ttest.csv\r\n",
      "design_1_ap_fixed.hwh\tinference_ap_fixed.py\ttest.py\r\n",
      "design_1_fine_tune.bit\tinference.py\t\tvenv\r\n"
     ]
    }
   ],
   "source": [
    "!ls"
   ]
  },
  {
   "cell_type": "code",
   "execution_count": 8,
   "id": "d8bfab99",
   "metadata": {},
   "outputs": [
    {
     "name": "stdout",
     "output_type": "stream",
     "text": [
      "Overlay loading time: 0.6794521808624268 s\n"
     ]
    }
   ],
   "source": [
    "start_load = time.time()\n",
    "overlay = Overlay('design_1_fine_tune.bit')\n",
    "dma = overlay.axi_dma_0\n",
    "print(f\"Overlay loading time: {time.time() - start_load} s\")"
   ]
  },
  {
   "cell_type": "code",
   "execution_count": 9,
   "id": "ffe07570",
   "metadata": {},
   "outputs": [],
   "source": [
    "input_buffer = allocate(shape=(36,), dtype=np.float32)\n",
    "output_buffer = allocate(shape=(1,), dtype=np.float32)"
   ]
  },
  {
   "cell_type": "code",
   "execution_count": 10,
   "id": "63572719",
   "metadata": {},
   "outputs": [],
   "source": [
    "TEST_DATA = 'test.csv'"
   ]
  },
  {
   "cell_type": "code",
   "execution_count": 11,
   "id": "1bcc7912",
   "metadata": {},
   "outputs": [],
   "source": [
    "test_df = pd.read_csv(TEST_DATA)\n",
    "\n",
    "test_df = test_df[~test_df['Activity'].isin(['STANDING', 'WALKING'])]\n",
    "features = [\n",
    "    'tBodyAcc-mean()-X', 'tBodyAcc-mean()-Y', 'tBodyAcc-mean()-Z', 'tBodyAcc-std()-X',\n",
    "    'tBodyAcc-std()-Y', 'tBodyAcc-std()-Z', 'tBodyAcc-max()-X', 'tBodyAcc-max()-Y',\n",
    "    'tBodyAcc-max()-Z', 'tBodyAcc-min()-X', 'tBodyAcc-min()-Y', 'tBodyAcc-min()-Z',\n",
    "    \n",
    "    'tBodyGyro-mean()-X', 'tBodyGyro-mean()-Y', 'tBodyGyro-mean()-Z', 'tBodyGyro-std()-X',\n",
    "    'tBodyGyro-std()-Y', 'tBodyGyro-std()-Z', 'tBodyGyro-max()-X', 'tBodyGyro-max()-Y',\n",
    "    'tBodyGyro-max()-Z', 'tBodyGyro-min()-X', 'tBodyGyro-min()-Y', 'tBodyGyro-min()-Z',\n",
    "    \n",
    "    'tGravityAcc-std()-X', 'tGravityAcc-std()-Y', 'tGravityAcc-std()-Z', 'tGravityAcc-mad()-X',\n",
    "    'tGravityAcc-mad()-Y', 'tGravityAcc-mad()-Z', 'tGravityAcc-max()-X', 'tGravityAcc-max()-Y',\n",
    "    'tGravityAcc-max()-Z', 'tGravityAcc-min()-X', 'tGravityAcc-min()-Y', 'tGravityAcc-min()-Z',\n",
    "    \n",
    "    'Activity'\n",
    "]\n",
    "\n",
    "test_df = test_df[[f for f in features]]\n",
    "\n",
    "X_test = test_df.iloc[:, :-1]\n",
    "y_test = test_df[['Activity']]"
   ]
  },
  {
   "cell_type": "code",
   "execution_count": 12,
   "id": "39d6669b",
   "metadata": {},
   "outputs": [
    {
     "data": {
      "text/plain": [
       "[1, 1, 1, 1, 1, 1, 1, 1, 1, 1, 1, 3, 1, 2, 3, 0, 0, 0, 1, 2]"
      ]
     },
     "execution_count": 12,
     "metadata": {},
     "output_type": "execute_result"
    }
   ],
   "source": [
    "y_test_transformed = []\n",
    "\n",
    "for i, row in y_test.iterrows():\n",
    "    activity = row['Activity']\n",
    "    if activity == 'LAYING':\n",
    "        y_test_transformed.append(0)\n",
    "    elif activity == 'SITTING':\n",
    "        y_test_transformed.append(1)\n",
    "    elif activity == 'WALKING_DOWNSTAIRS':\n",
    "        y_test_transformed.append(2)\n",
    "    else:\n",
    "        y_test_transformed.append(3)\n",
    "        \n",
    "y_test_transformed[::100]"
   ]
  },
  {
   "cell_type": "code",
   "execution_count": 13,
   "id": "25653ecf",
   "metadata": {},
   "outputs": [
    {
     "name": "stdout",
     "output_type": "stream",
     "text": [
      "Inference time: 1.7879009246826172 ms\n"
     ]
    }
   ],
   "source": [
    "# one sample\n",
    "data = X_test.iloc[0]\n",
    "for j, n in enumerate(data):\n",
    "    input_buffer[j] = n\n",
    "start_time = time.time()\n",
    "dma.sendchannel.transfer(input_buffer)\n",
    "dma.recvchannel.transfer(output_buffer)\n",
    "dma.sendchannel.wait()\n",
    "dma.recvchannel.wait()\n",
    "\n",
    "end_time = time.time()\n",
    "print(f\"Inference time: {(end_time - start_time) * 1000} ms\")   "
   ]
  },
  {
   "cell_type": "code",
   "execution_count": null,
   "id": "3db3d2dc",
   "metadata": {},
   "outputs": [],
   "source": [
    "# whole dataset, record power consumption\n",
    "recorder = get_recorder()\n",
    "with recorder.record(0.5):\n",
    "    \n",
    "    start_time = time.time()\n",
    "\n",
    "    num_correct, num_samples = 0, 0\n",
    "    recorder.mark()\n",
    "    for i in range(len(X_test)):\n",
    "        data = X_test.iloc[i]\n",
    "        for j, n in enumerate(data):\n",
    "            input_buffer[j] = n\n",
    "        dma.sendchannel.transfer(input_buffer)\n",
    "        dma.recvchannel.transfer(output_buffer)\n",
    "        dma.sendchannel.wait()\n",
    "        dma.recvchannel.wait()\n",
    "        num_samples += 1\n",
    "        num_correct += (y_test_transformed[i] == int(output_buffer[0]))\n",
    "    recorder.mark()\n",
    "    end_time = time.time()\n",
    "    print(f\"Accuracy: {(100.0 * num_correct / num_samples):.2f}%\")\n",
    "    print(f\"Inference time: {(end_time - start_time):.4f} s\")   "
   ]
  },
  {
   "cell_type": "code",
   "execution_count": null,
   "id": "59d2353f",
   "metadata": {},
   "outputs": [],
   "source": [
    "recorder.frame.plot(subplots=True)"
   ]
  },
  {
   "cell_type": "code",
   "execution_count": null,
   "id": "de77a542",
   "metadata": {},
   "outputs": [],
   "source": [
    "!cpufreq-set -f 200000\n",
    "!cpufreq-info | grep \" current CPU frequency\""
   ]
  },
  {
   "cell_type": "code",
   "execution_count": null,
   "id": "0913d82b",
   "metadata": {},
   "outputs": [],
   "source": [
    "# whole dataset\n",
    "recorder = get_recorder()\n",
    "\n",
    "with recorder.record(0.5):\n",
    "    start_time = time.time()\n",
    "\n",
    "    num_correct, num_samples = 0, 0\n",
    "    for i in range(len(X_test)):\n",
    "        data = X_test.iloc[i]\n",
    "        for j, n in enumerate(data):\n",
    "            input_buffer[j] = n\n",
    "        dma.sendchannel.transfer(input_buffer)\n",
    "        dma.recvchannel.transfer(output_buffer)\n",
    "        dma.sendchannel.wait()\n",
    "        dma.recvchannel.wait()\n",
    "        num_samples += 1\n",
    "        num_correct += (y_test_transformed[i] == int(output_buffer[0]))\n",
    "\n",
    "    end_time = time.time()\n",
    "    print(f\"Accuracy: {(100.0 * num_correct / num_samples):.2f}%\")\n",
    "    print(f\"Inference time: {(end_time - start_time):.4f} s\") "
   ]
  },
  {
   "cell_type": "code",
   "execution_count": null,
   "id": "aeeff0e5",
   "metadata": {},
   "outputs": [],
   "source": [
    "%matplotlib inline\n",
    "recorder.frame['{}_power'.format(rail_name)].plot()"
   ]
  },
  {
   "cell_type": "code",
   "execution_count": null,
   "id": "97fedbd6",
   "metadata": {},
   "outputs": [],
   "source": [
    "# set cpu frequency to default value\n",
    "!cpufreq-set -f 1200000\n",
    "!cpufreq-info | grep \" current CPU frequency\""
   ]
  },
  {
   "cell_type": "code",
   "execution_count": 20,
   "id": "c90b3797",
   "metadata": {},
   "outputs": [
    {
     "name": "stdout",
     "output_type": "stream",
     "text": [
      "CPU op-mode(s):                  32-bit, 64-bit\r\n",
      "CPU(s):                          4\r\n",
      "On-line CPU(s) list:             0-3\r\n",
      "CPU max MHz:                     1199.9990\r\n",
      "CPU min MHz:                     299.9990\r\n"
     ]
    }
   ],
   "source": [
    "# get cpu information\n",
    "!lscpu | grep CPU*"
   ]
  },
  {
   "cell_type": "code",
   "execution_count": 21,
   "id": "600889b4",
   "metadata": {},
   "outputs": [
    {
     "name": "stdout",
     "output_type": "stream",
     "text": [
      "CPU op-mode(s):                  32-bit, 64-bit\r\n",
      "CPU(s):                          4\r\n",
      "On-line CPU(s) list:             0-2\r\n",
      "Off-line CPU(s) list:            3\r\n",
      "CPU max MHz:                     1199.9990\r\n",
      "CPU min MHz:                     299.9990\r\n"
     ]
    }
   ],
   "source": [
    "# disable cpu\n",
    "!echo 0 > /sys/devices/system/cpu/cpu3/online \n",
    "!lscpu | grep CPU*"
   ]
  },
  {
   "cell_type": "code",
   "execution_count": 23,
   "id": "0a2fb7a8",
   "metadata": {},
   "outputs": [
    {
     "name": "stdout",
     "output_type": "stream",
     "text": [
      "CPU op-mode(s):                  32-bit, 64-bit\r\n",
      "CPU(s):                          4\r\n",
      "On-line CPU(s) list:             0-3\r\n",
      "CPU max MHz:                     1199.9990\r\n",
      "CPU min MHz:                     299.9990\r\n"
     ]
    }
   ],
   "source": [
    "# enable disabled cpu\n",
    "!echo 1 > /sys/devices/system/cpu/cpu3/online \n",
    "!lscpu | grep CPU*"
   ]
  },
  {
   "cell_type": "code",
   "execution_count": null,
   "id": "5deeef4f",
   "metadata": {},
   "outputs": [],
   "source": []
  }
 ],
 "metadata": {
  "kernelspec": {
   "display_name": "Python 3",
   "language": "python",
   "name": "python3"
  },
  "language_info": {
   "codemirror_mode": {
    "name": "ipython",
    "version": 3
   },
   "file_extension": ".py",
   "mimetype": "text/x-python",
   "name": "python",
   "nbconvert_exporter": "python",
   "pygments_lexer": "ipython3",
   "version": "3.8.2"
  }
 },
 "nbformat": 4,
 "nbformat_minor": 5
}
